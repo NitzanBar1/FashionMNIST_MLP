{
  "nbformat": 4,
  "nbformat_minor": 0,
  "metadata": {
    "kernelspec": {
      "display_name": "Python 3",
      "language": "python",
      "name": "python3"
    },
    "language_info": {
      "codemirror_mode": {
        "name": "ipython",
        "version": 3
      },
      "file_extension": ".py",
      "mimetype": "text/x-python",
      "name": "python",
      "nbconvert_exporter": "python",
      "pygments_lexer": "ipython3",
      "version": "3.6.9"
    },
    "colab": {
      "name": "ee046211_hw2_314991936_307531519 (4).ipynb",
      "provenance": [],
      "collapsed_sections": []
    },
    "accelerator": "GPU",
    "widgets": {
      "application/vnd.jupyter.widget-state+json": {
        "84ead75d901a41cd858b19fe5c7dd036": {
          "model_module": "@jupyter-widgets/controls",
          "model_name": "HBoxModel",
          "model_module_version": "1.5.0",
          "state": {
            "_view_name": "HBoxView",
            "_dom_classes": [],
            "_model_name": "HBoxModel",
            "_view_module": "@jupyter-widgets/controls",
            "_model_module_version": "1.5.0",
            "_view_count": null,
            "_view_module_version": "1.5.0",
            "box_style": "",
            "layout": "IPY_MODEL_57974a0749d54334b16215cdbf35cc98",
            "_model_module": "@jupyter-widgets/controls",
            "children": [
              "IPY_MODEL_8899b907d59c49b3afb53da238c505f9",
              "IPY_MODEL_82d20ce3156b47c9a92e8cbf367f7d72",
              "IPY_MODEL_4e07786e8ba142e7a1a7b06d12a44738"
            ]
          }
        },
        "57974a0749d54334b16215cdbf35cc98": {
          "model_module": "@jupyter-widgets/base",
          "model_name": "LayoutModel",
          "model_module_version": "1.2.0",
          "state": {
            "_view_name": "LayoutView",
            "grid_template_rows": null,
            "right": null,
            "justify_content": null,
            "_view_module": "@jupyter-widgets/base",
            "overflow": null,
            "_model_module_version": "1.2.0",
            "_view_count": null,
            "flex_flow": null,
            "width": null,
            "min_width": null,
            "border": null,
            "align_items": null,
            "bottom": null,
            "_model_module": "@jupyter-widgets/base",
            "top": null,
            "grid_column": null,
            "overflow_y": null,
            "overflow_x": null,
            "grid_auto_flow": null,
            "grid_area": null,
            "grid_template_columns": null,
            "flex": null,
            "_model_name": "LayoutModel",
            "justify_items": null,
            "grid_row": null,
            "max_height": null,
            "align_content": null,
            "visibility": null,
            "align_self": null,
            "height": null,
            "min_height": null,
            "padding": null,
            "grid_auto_rows": null,
            "grid_gap": null,
            "max_width": null,
            "order": null,
            "_view_module_version": "1.2.0",
            "grid_template_areas": null,
            "object_position": null,
            "object_fit": null,
            "grid_auto_columns": null,
            "margin": null,
            "display": null,
            "left": null
          }
        },
        "8899b907d59c49b3afb53da238c505f9": {
          "model_module": "@jupyter-widgets/controls",
          "model_name": "HTMLModel",
          "model_module_version": "1.5.0",
          "state": {
            "_view_name": "HTMLView",
            "style": "IPY_MODEL_9878e823384d471a8a611ab8518c612c",
            "_dom_classes": [],
            "description": "",
            "_model_name": "HTMLModel",
            "placeholder": "​",
            "_view_module": "@jupyter-widgets/controls",
            "_model_module_version": "1.5.0",
            "value": "",
            "_view_count": null,
            "_view_module_version": "1.5.0",
            "description_tooltip": null,
            "_model_module": "@jupyter-widgets/controls",
            "layout": "IPY_MODEL_e7697e0f2dc94787a8184aa263984682"
          }
        },
        "82d20ce3156b47c9a92e8cbf367f7d72": {
          "model_module": "@jupyter-widgets/controls",
          "model_name": "FloatProgressModel",
          "model_module_version": "1.5.0",
          "state": {
            "_view_name": "ProgressView",
            "style": "IPY_MODEL_523fbf66dfad4c6ab91561d4af3d87e1",
            "_dom_classes": [],
            "description": "",
            "_model_name": "FloatProgressModel",
            "bar_style": "success",
            "max": 26421880,
            "_view_module": "@jupyter-widgets/controls",
            "_model_module_version": "1.5.0",
            "value": 26421880,
            "_view_count": null,
            "_view_module_version": "1.5.0",
            "orientation": "horizontal",
            "min": 0,
            "description_tooltip": null,
            "_model_module": "@jupyter-widgets/controls",
            "layout": "IPY_MODEL_7d035a7dd1c44a599b745ce9d83c8430"
          }
        },
        "4e07786e8ba142e7a1a7b06d12a44738": {
          "model_module": "@jupyter-widgets/controls",
          "model_name": "HTMLModel",
          "model_module_version": "1.5.0",
          "state": {
            "_view_name": "HTMLView",
            "style": "IPY_MODEL_9255bf083d194349ba91299a6baa844f",
            "_dom_classes": [],
            "description": "",
            "_model_name": "HTMLModel",
            "placeholder": "​",
            "_view_module": "@jupyter-widgets/controls",
            "_model_module_version": "1.5.0",
            "value": " 26422272/? [00:01&lt;00:00, 22877916.05it/s]",
            "_view_count": null,
            "_view_module_version": "1.5.0",
            "description_tooltip": null,
            "_model_module": "@jupyter-widgets/controls",
            "layout": "IPY_MODEL_0cb4de6c59a94674b7effc42e26b9264"
          }
        },
        "9878e823384d471a8a611ab8518c612c": {
          "model_module": "@jupyter-widgets/controls",
          "model_name": "DescriptionStyleModel",
          "model_module_version": "1.5.0",
          "state": {
            "_view_name": "StyleView",
            "_model_name": "DescriptionStyleModel",
            "description_width": "",
            "_view_module": "@jupyter-widgets/base",
            "_model_module_version": "1.5.0",
            "_view_count": null,
            "_view_module_version": "1.2.0",
            "_model_module": "@jupyter-widgets/controls"
          }
        },
        "e7697e0f2dc94787a8184aa263984682": {
          "model_module": "@jupyter-widgets/base",
          "model_name": "LayoutModel",
          "model_module_version": "1.2.0",
          "state": {
            "_view_name": "LayoutView",
            "grid_template_rows": null,
            "right": null,
            "justify_content": null,
            "_view_module": "@jupyter-widgets/base",
            "overflow": null,
            "_model_module_version": "1.2.0",
            "_view_count": null,
            "flex_flow": null,
            "width": null,
            "min_width": null,
            "border": null,
            "align_items": null,
            "bottom": null,
            "_model_module": "@jupyter-widgets/base",
            "top": null,
            "grid_column": null,
            "overflow_y": null,
            "overflow_x": null,
            "grid_auto_flow": null,
            "grid_area": null,
            "grid_template_columns": null,
            "flex": null,
            "_model_name": "LayoutModel",
            "justify_items": null,
            "grid_row": null,
            "max_height": null,
            "align_content": null,
            "visibility": null,
            "align_self": null,
            "height": null,
            "min_height": null,
            "padding": null,
            "grid_auto_rows": null,
            "grid_gap": null,
            "max_width": null,
            "order": null,
            "_view_module_version": "1.2.0",
            "grid_template_areas": null,
            "object_position": null,
            "object_fit": null,
            "grid_auto_columns": null,
            "margin": null,
            "display": null,
            "left": null
          }
        },
        "523fbf66dfad4c6ab91561d4af3d87e1": {
          "model_module": "@jupyter-widgets/controls",
          "model_name": "ProgressStyleModel",
          "model_module_version": "1.5.0",
          "state": {
            "_view_name": "StyleView",
            "_model_name": "ProgressStyleModel",
            "description_width": "",
            "_view_module": "@jupyter-widgets/base",
            "_model_module_version": "1.5.0",
            "_view_count": null,
            "_view_module_version": "1.2.0",
            "bar_color": null,
            "_model_module": "@jupyter-widgets/controls"
          }
        },
        "7d035a7dd1c44a599b745ce9d83c8430": {
          "model_module": "@jupyter-widgets/base",
          "model_name": "LayoutModel",
          "model_module_version": "1.2.0",
          "state": {
            "_view_name": "LayoutView",
            "grid_template_rows": null,
            "right": null,
            "justify_content": null,
            "_view_module": "@jupyter-widgets/base",
            "overflow": null,
            "_model_module_version": "1.2.0",
            "_view_count": null,
            "flex_flow": null,
            "width": null,
            "min_width": null,
            "border": null,
            "align_items": null,
            "bottom": null,
            "_model_module": "@jupyter-widgets/base",
            "top": null,
            "grid_column": null,
            "overflow_y": null,
            "overflow_x": null,
            "grid_auto_flow": null,
            "grid_area": null,
            "grid_template_columns": null,
            "flex": null,
            "_model_name": "LayoutModel",
            "justify_items": null,
            "grid_row": null,
            "max_height": null,
            "align_content": null,
            "visibility": null,
            "align_self": null,
            "height": null,
            "min_height": null,
            "padding": null,
            "grid_auto_rows": null,
            "grid_gap": null,
            "max_width": null,
            "order": null,
            "_view_module_version": "1.2.0",
            "grid_template_areas": null,
            "object_position": null,
            "object_fit": null,
            "grid_auto_columns": null,
            "margin": null,
            "display": null,
            "left": null
          }
        },
        "9255bf083d194349ba91299a6baa844f": {
          "model_module": "@jupyter-widgets/controls",
          "model_name": "DescriptionStyleModel",
          "model_module_version": "1.5.0",
          "state": {
            "_view_name": "StyleView",
            "_model_name": "DescriptionStyleModel",
            "description_width": "",
            "_view_module": "@jupyter-widgets/base",
            "_model_module_version": "1.5.0",
            "_view_count": null,
            "_view_module_version": "1.2.0",
            "_model_module": "@jupyter-widgets/controls"
          }
        },
        "0cb4de6c59a94674b7effc42e26b9264": {
          "model_module": "@jupyter-widgets/base",
          "model_name": "LayoutModel",
          "model_module_version": "1.2.0",
          "state": {
            "_view_name": "LayoutView",
            "grid_template_rows": null,
            "right": null,
            "justify_content": null,
            "_view_module": "@jupyter-widgets/base",
            "overflow": null,
            "_model_module_version": "1.2.0",
            "_view_count": null,
            "flex_flow": null,
            "width": null,
            "min_width": null,
            "border": null,
            "align_items": null,
            "bottom": null,
            "_model_module": "@jupyter-widgets/base",
            "top": null,
            "grid_column": null,
            "overflow_y": null,
            "overflow_x": null,
            "grid_auto_flow": null,
            "grid_area": null,
            "grid_template_columns": null,
            "flex": null,
            "_model_name": "LayoutModel",
            "justify_items": null,
            "grid_row": null,
            "max_height": null,
            "align_content": null,
            "visibility": null,
            "align_self": null,
            "height": null,
            "min_height": null,
            "padding": null,
            "grid_auto_rows": null,
            "grid_gap": null,
            "max_width": null,
            "order": null,
            "_view_module_version": "1.2.0",
            "grid_template_areas": null,
            "object_position": null,
            "object_fit": null,
            "grid_auto_columns": null,
            "margin": null,
            "display": null,
            "left": null
          }
        },
        "06a111890b06478fa61d409ebf38e6dc": {
          "model_module": "@jupyter-widgets/controls",
          "model_name": "HBoxModel",
          "model_module_version": "1.5.0",
          "state": {
            "_view_name": "HBoxView",
            "_dom_classes": [],
            "_model_name": "HBoxModel",
            "_view_module": "@jupyter-widgets/controls",
            "_model_module_version": "1.5.0",
            "_view_count": null,
            "_view_module_version": "1.5.0",
            "box_style": "",
            "layout": "IPY_MODEL_760fa7c959ac41999b3c68129c3234a7",
            "_model_module": "@jupyter-widgets/controls",
            "children": [
              "IPY_MODEL_39db8a223c174812adf7bec9bc460b5c",
              "IPY_MODEL_99f71236ee2040109ee7e966afca079e",
              "IPY_MODEL_04917912890f4e04bf9c07303fa4c5df"
            ]
          }
        },
        "760fa7c959ac41999b3c68129c3234a7": {
          "model_module": "@jupyter-widgets/base",
          "model_name": "LayoutModel",
          "model_module_version": "1.2.0",
          "state": {
            "_view_name": "LayoutView",
            "grid_template_rows": null,
            "right": null,
            "justify_content": null,
            "_view_module": "@jupyter-widgets/base",
            "overflow": null,
            "_model_module_version": "1.2.0",
            "_view_count": null,
            "flex_flow": null,
            "width": null,
            "min_width": null,
            "border": null,
            "align_items": null,
            "bottom": null,
            "_model_module": "@jupyter-widgets/base",
            "top": null,
            "grid_column": null,
            "overflow_y": null,
            "overflow_x": null,
            "grid_auto_flow": null,
            "grid_area": null,
            "grid_template_columns": null,
            "flex": null,
            "_model_name": "LayoutModel",
            "justify_items": null,
            "grid_row": null,
            "max_height": null,
            "align_content": null,
            "visibility": null,
            "align_self": null,
            "height": null,
            "min_height": null,
            "padding": null,
            "grid_auto_rows": null,
            "grid_gap": null,
            "max_width": null,
            "order": null,
            "_view_module_version": "1.2.0",
            "grid_template_areas": null,
            "object_position": null,
            "object_fit": null,
            "grid_auto_columns": null,
            "margin": null,
            "display": null,
            "left": null
          }
        },
        "39db8a223c174812adf7bec9bc460b5c": {
          "model_module": "@jupyter-widgets/controls",
          "model_name": "HTMLModel",
          "model_module_version": "1.5.0",
          "state": {
            "_view_name": "HTMLView",
            "style": "IPY_MODEL_bbf4f927da3e4a8b9ad680704205ba62",
            "_dom_classes": [],
            "description": "",
            "_model_name": "HTMLModel",
            "placeholder": "​",
            "_view_module": "@jupyter-widgets/controls",
            "_model_module_version": "1.5.0",
            "value": "",
            "_view_count": null,
            "_view_module_version": "1.5.0",
            "description_tooltip": null,
            "_model_module": "@jupyter-widgets/controls",
            "layout": "IPY_MODEL_45c6e1b678714501a5ea4a7beeec1c71"
          }
        },
        "99f71236ee2040109ee7e966afca079e": {
          "model_module": "@jupyter-widgets/controls",
          "model_name": "FloatProgressModel",
          "model_module_version": "1.5.0",
          "state": {
            "_view_name": "ProgressView",
            "style": "IPY_MODEL_3804d477602a4e43ba01000ce866b825",
            "_dom_classes": [],
            "description": "",
            "_model_name": "FloatProgressModel",
            "bar_style": "success",
            "max": 29515,
            "_view_module": "@jupyter-widgets/controls",
            "_model_module_version": "1.5.0",
            "value": 29515,
            "_view_count": null,
            "_view_module_version": "1.5.0",
            "orientation": "horizontal",
            "min": 0,
            "description_tooltip": null,
            "_model_module": "@jupyter-widgets/controls",
            "layout": "IPY_MODEL_f9dd25e6271247498a01c1db8fdf2cd2"
          }
        },
        "04917912890f4e04bf9c07303fa4c5df": {
          "model_module": "@jupyter-widgets/controls",
          "model_name": "HTMLModel",
          "model_module_version": "1.5.0",
          "state": {
            "_view_name": "HTMLView",
            "style": "IPY_MODEL_e275655fbd714d67b7f77d59e8a64e40",
            "_dom_classes": [],
            "description": "",
            "_model_name": "HTMLModel",
            "placeholder": "​",
            "_view_module": "@jupyter-widgets/controls",
            "_model_module_version": "1.5.0",
            "value": " 29696/? [00:00&lt;00:00, 123442.89it/s]",
            "_view_count": null,
            "_view_module_version": "1.5.0",
            "description_tooltip": null,
            "_model_module": "@jupyter-widgets/controls",
            "layout": "IPY_MODEL_d0bc6c2ec9f34bf48280d0164ddcd3ab"
          }
        },
        "bbf4f927da3e4a8b9ad680704205ba62": {
          "model_module": "@jupyter-widgets/controls",
          "model_name": "DescriptionStyleModel",
          "model_module_version": "1.5.0",
          "state": {
            "_view_name": "StyleView",
            "_model_name": "DescriptionStyleModel",
            "description_width": "",
            "_view_module": "@jupyter-widgets/base",
            "_model_module_version": "1.5.0",
            "_view_count": null,
            "_view_module_version": "1.2.0",
            "_model_module": "@jupyter-widgets/controls"
          }
        },
        "45c6e1b678714501a5ea4a7beeec1c71": {
          "model_module": "@jupyter-widgets/base",
          "model_name": "LayoutModel",
          "model_module_version": "1.2.0",
          "state": {
            "_view_name": "LayoutView",
            "grid_template_rows": null,
            "right": null,
            "justify_content": null,
            "_view_module": "@jupyter-widgets/base",
            "overflow": null,
            "_model_module_version": "1.2.0",
            "_view_count": null,
            "flex_flow": null,
            "width": null,
            "min_width": null,
            "border": null,
            "align_items": null,
            "bottom": null,
            "_model_module": "@jupyter-widgets/base",
            "top": null,
            "grid_column": null,
            "overflow_y": null,
            "overflow_x": null,
            "grid_auto_flow": null,
            "grid_area": null,
            "grid_template_columns": null,
            "flex": null,
            "_model_name": "LayoutModel",
            "justify_items": null,
            "grid_row": null,
            "max_height": null,
            "align_content": null,
            "visibility": null,
            "align_self": null,
            "height": null,
            "min_height": null,
            "padding": null,
            "grid_auto_rows": null,
            "grid_gap": null,
            "max_width": null,
            "order": null,
            "_view_module_version": "1.2.0",
            "grid_template_areas": null,
            "object_position": null,
            "object_fit": null,
            "grid_auto_columns": null,
            "margin": null,
            "display": null,
            "left": null
          }
        },
        "3804d477602a4e43ba01000ce866b825": {
          "model_module": "@jupyter-widgets/controls",
          "model_name": "ProgressStyleModel",
          "model_module_version": "1.5.0",
          "state": {
            "_view_name": "StyleView",
            "_model_name": "ProgressStyleModel",
            "description_width": "",
            "_view_module": "@jupyter-widgets/base",
            "_model_module_version": "1.5.0",
            "_view_count": null,
            "_view_module_version": "1.2.0",
            "bar_color": null,
            "_model_module": "@jupyter-widgets/controls"
          }
        },
        "f9dd25e6271247498a01c1db8fdf2cd2": {
          "model_module": "@jupyter-widgets/base",
          "model_name": "LayoutModel",
          "model_module_version": "1.2.0",
          "state": {
            "_view_name": "LayoutView",
            "grid_template_rows": null,
            "right": null,
            "justify_content": null,
            "_view_module": "@jupyter-widgets/base",
            "overflow": null,
            "_model_module_version": "1.2.0",
            "_view_count": null,
            "flex_flow": null,
            "width": null,
            "min_width": null,
            "border": null,
            "align_items": null,
            "bottom": null,
            "_model_module": "@jupyter-widgets/base",
            "top": null,
            "grid_column": null,
            "overflow_y": null,
            "overflow_x": null,
            "grid_auto_flow": null,
            "grid_area": null,
            "grid_template_columns": null,
            "flex": null,
            "_model_name": "LayoutModel",
            "justify_items": null,
            "grid_row": null,
            "max_height": null,
            "align_content": null,
            "visibility": null,
            "align_self": null,
            "height": null,
            "min_height": null,
            "padding": null,
            "grid_auto_rows": null,
            "grid_gap": null,
            "max_width": null,
            "order": null,
            "_view_module_version": "1.2.0",
            "grid_template_areas": null,
            "object_position": null,
            "object_fit": null,
            "grid_auto_columns": null,
            "margin": null,
            "display": null,
            "left": null
          }
        },
        "e275655fbd714d67b7f77d59e8a64e40": {
          "model_module": "@jupyter-widgets/controls",
          "model_name": "DescriptionStyleModel",
          "model_module_version": "1.5.0",
          "state": {
            "_view_name": "StyleView",
            "_model_name": "DescriptionStyleModel",
            "description_width": "",
            "_view_module": "@jupyter-widgets/base",
            "_model_module_version": "1.5.0",
            "_view_count": null,
            "_view_module_version": "1.2.0",
            "_model_module": "@jupyter-widgets/controls"
          }
        },
        "d0bc6c2ec9f34bf48280d0164ddcd3ab": {
          "model_module": "@jupyter-widgets/base",
          "model_name": "LayoutModel",
          "model_module_version": "1.2.0",
          "state": {
            "_view_name": "LayoutView",
            "grid_template_rows": null,
            "right": null,
            "justify_content": null,
            "_view_module": "@jupyter-widgets/base",
            "overflow": null,
            "_model_module_version": "1.2.0",
            "_view_count": null,
            "flex_flow": null,
            "width": null,
            "min_width": null,
            "border": null,
            "align_items": null,
            "bottom": null,
            "_model_module": "@jupyter-widgets/base",
            "top": null,
            "grid_column": null,
            "overflow_y": null,
            "overflow_x": null,
            "grid_auto_flow": null,
            "grid_area": null,
            "grid_template_columns": null,
            "flex": null,
            "_model_name": "LayoutModel",
            "justify_items": null,
            "grid_row": null,
            "max_height": null,
            "align_content": null,
            "visibility": null,
            "align_self": null,
            "height": null,
            "min_height": null,
            "padding": null,
            "grid_auto_rows": null,
            "grid_gap": null,
            "max_width": null,
            "order": null,
            "_view_module_version": "1.2.0",
            "grid_template_areas": null,
            "object_position": null,
            "object_fit": null,
            "grid_auto_columns": null,
            "margin": null,
            "display": null,
            "left": null
          }
        },
        "714b71036b0e42808859109b52d1a082": {
          "model_module": "@jupyter-widgets/controls",
          "model_name": "HBoxModel",
          "model_module_version": "1.5.0",
          "state": {
            "_view_name": "HBoxView",
            "_dom_classes": [],
            "_model_name": "HBoxModel",
            "_view_module": "@jupyter-widgets/controls",
            "_model_module_version": "1.5.0",
            "_view_count": null,
            "_view_module_version": "1.5.0",
            "box_style": "",
            "layout": "IPY_MODEL_8bc02f2c65894bee91685e76d667e8ea",
            "_model_module": "@jupyter-widgets/controls",
            "children": [
              "IPY_MODEL_cce3eefe19f0485ca3f97273527cde90",
              "IPY_MODEL_53215739d1b046aca80d37735f60e62d",
              "IPY_MODEL_f1f42401b4704a73918e46e56de8a9de"
            ]
          }
        },
        "8bc02f2c65894bee91685e76d667e8ea": {
          "model_module": "@jupyter-widgets/base",
          "model_name": "LayoutModel",
          "model_module_version": "1.2.0",
          "state": {
            "_view_name": "LayoutView",
            "grid_template_rows": null,
            "right": null,
            "justify_content": null,
            "_view_module": "@jupyter-widgets/base",
            "overflow": null,
            "_model_module_version": "1.2.0",
            "_view_count": null,
            "flex_flow": null,
            "width": null,
            "min_width": null,
            "border": null,
            "align_items": null,
            "bottom": null,
            "_model_module": "@jupyter-widgets/base",
            "top": null,
            "grid_column": null,
            "overflow_y": null,
            "overflow_x": null,
            "grid_auto_flow": null,
            "grid_area": null,
            "grid_template_columns": null,
            "flex": null,
            "_model_name": "LayoutModel",
            "justify_items": null,
            "grid_row": null,
            "max_height": null,
            "align_content": null,
            "visibility": null,
            "align_self": null,
            "height": null,
            "min_height": null,
            "padding": null,
            "grid_auto_rows": null,
            "grid_gap": null,
            "max_width": null,
            "order": null,
            "_view_module_version": "1.2.0",
            "grid_template_areas": null,
            "object_position": null,
            "object_fit": null,
            "grid_auto_columns": null,
            "margin": null,
            "display": null,
            "left": null
          }
        },
        "cce3eefe19f0485ca3f97273527cde90": {
          "model_module": "@jupyter-widgets/controls",
          "model_name": "HTMLModel",
          "model_module_version": "1.5.0",
          "state": {
            "_view_name": "HTMLView",
            "style": "IPY_MODEL_3fe6c4c860ee4712a5e4a12b44106efc",
            "_dom_classes": [],
            "description": "",
            "_model_name": "HTMLModel",
            "placeholder": "​",
            "_view_module": "@jupyter-widgets/controls",
            "_model_module_version": "1.5.0",
            "value": "",
            "_view_count": null,
            "_view_module_version": "1.5.0",
            "description_tooltip": null,
            "_model_module": "@jupyter-widgets/controls",
            "layout": "IPY_MODEL_dd7253e8936f402caa36130a497620b0"
          }
        },
        "53215739d1b046aca80d37735f60e62d": {
          "model_module": "@jupyter-widgets/controls",
          "model_name": "FloatProgressModel",
          "model_module_version": "1.5.0",
          "state": {
            "_view_name": "ProgressView",
            "style": "IPY_MODEL_1b50b4b71c8c48cbbcb9fd8771a6ac8f",
            "_dom_classes": [],
            "description": "",
            "_model_name": "FloatProgressModel",
            "bar_style": "success",
            "max": 4422102,
            "_view_module": "@jupyter-widgets/controls",
            "_model_module_version": "1.5.0",
            "value": 4422102,
            "_view_count": null,
            "_view_module_version": "1.5.0",
            "orientation": "horizontal",
            "min": 0,
            "description_tooltip": null,
            "_model_module": "@jupyter-widgets/controls",
            "layout": "IPY_MODEL_aad82bf5360647c3ade3376de2235d70"
          }
        },
        "f1f42401b4704a73918e46e56de8a9de": {
          "model_module": "@jupyter-widgets/controls",
          "model_name": "HTMLModel",
          "model_module_version": "1.5.0",
          "state": {
            "_view_name": "HTMLView",
            "style": "IPY_MODEL_18ecdac62c2241ac882b6b70d5afdc31",
            "_dom_classes": [],
            "description": "",
            "_model_name": "HTMLModel",
            "placeholder": "​",
            "_view_module": "@jupyter-widgets/controls",
            "_model_module_version": "1.5.0",
            "value": " 4422656/? [00:00&lt;00:00, 7682204.36it/s]",
            "_view_count": null,
            "_view_module_version": "1.5.0",
            "description_tooltip": null,
            "_model_module": "@jupyter-widgets/controls",
            "layout": "IPY_MODEL_6d828be624d84b96a919798f17274156"
          }
        },
        "3fe6c4c860ee4712a5e4a12b44106efc": {
          "model_module": "@jupyter-widgets/controls",
          "model_name": "DescriptionStyleModel",
          "model_module_version": "1.5.0",
          "state": {
            "_view_name": "StyleView",
            "_model_name": "DescriptionStyleModel",
            "description_width": "",
            "_view_module": "@jupyter-widgets/base",
            "_model_module_version": "1.5.0",
            "_view_count": null,
            "_view_module_version": "1.2.0",
            "_model_module": "@jupyter-widgets/controls"
          }
        },
        "dd7253e8936f402caa36130a497620b0": {
          "model_module": "@jupyter-widgets/base",
          "model_name": "LayoutModel",
          "model_module_version": "1.2.0",
          "state": {
            "_view_name": "LayoutView",
            "grid_template_rows": null,
            "right": null,
            "justify_content": null,
            "_view_module": "@jupyter-widgets/base",
            "overflow": null,
            "_model_module_version": "1.2.0",
            "_view_count": null,
            "flex_flow": null,
            "width": null,
            "min_width": null,
            "border": null,
            "align_items": null,
            "bottom": null,
            "_model_module": "@jupyter-widgets/base",
            "top": null,
            "grid_column": null,
            "overflow_y": null,
            "overflow_x": null,
            "grid_auto_flow": null,
            "grid_area": null,
            "grid_template_columns": null,
            "flex": null,
            "_model_name": "LayoutModel",
            "justify_items": null,
            "grid_row": null,
            "max_height": null,
            "align_content": null,
            "visibility": null,
            "align_self": null,
            "height": null,
            "min_height": null,
            "padding": null,
            "grid_auto_rows": null,
            "grid_gap": null,
            "max_width": null,
            "order": null,
            "_view_module_version": "1.2.0",
            "grid_template_areas": null,
            "object_position": null,
            "object_fit": null,
            "grid_auto_columns": null,
            "margin": null,
            "display": null,
            "left": null
          }
        },
        "1b50b4b71c8c48cbbcb9fd8771a6ac8f": {
          "model_module": "@jupyter-widgets/controls",
          "model_name": "ProgressStyleModel",
          "model_module_version": "1.5.0",
          "state": {
            "_view_name": "StyleView",
            "_model_name": "ProgressStyleModel",
            "description_width": "",
            "_view_module": "@jupyter-widgets/base",
            "_model_module_version": "1.5.0",
            "_view_count": null,
            "_view_module_version": "1.2.0",
            "bar_color": null,
            "_model_module": "@jupyter-widgets/controls"
          }
        },
        "aad82bf5360647c3ade3376de2235d70": {
          "model_module": "@jupyter-widgets/base",
          "model_name": "LayoutModel",
          "model_module_version": "1.2.0",
          "state": {
            "_view_name": "LayoutView",
            "grid_template_rows": null,
            "right": null,
            "justify_content": null,
            "_view_module": "@jupyter-widgets/base",
            "overflow": null,
            "_model_module_version": "1.2.0",
            "_view_count": null,
            "flex_flow": null,
            "width": null,
            "min_width": null,
            "border": null,
            "align_items": null,
            "bottom": null,
            "_model_module": "@jupyter-widgets/base",
            "top": null,
            "grid_column": null,
            "overflow_y": null,
            "overflow_x": null,
            "grid_auto_flow": null,
            "grid_area": null,
            "grid_template_columns": null,
            "flex": null,
            "_model_name": "LayoutModel",
            "justify_items": null,
            "grid_row": null,
            "max_height": null,
            "align_content": null,
            "visibility": null,
            "align_self": null,
            "height": null,
            "min_height": null,
            "padding": null,
            "grid_auto_rows": null,
            "grid_gap": null,
            "max_width": null,
            "order": null,
            "_view_module_version": "1.2.0",
            "grid_template_areas": null,
            "object_position": null,
            "object_fit": null,
            "grid_auto_columns": null,
            "margin": null,
            "display": null,
            "left": null
          }
        },
        "18ecdac62c2241ac882b6b70d5afdc31": {
          "model_module": "@jupyter-widgets/controls",
          "model_name": "DescriptionStyleModel",
          "model_module_version": "1.5.0",
          "state": {
            "_view_name": "StyleView",
            "_model_name": "DescriptionStyleModel",
            "description_width": "",
            "_view_module": "@jupyter-widgets/base",
            "_model_module_version": "1.5.0",
            "_view_count": null,
            "_view_module_version": "1.2.0",
            "_model_module": "@jupyter-widgets/controls"
          }
        },
        "6d828be624d84b96a919798f17274156": {
          "model_module": "@jupyter-widgets/base",
          "model_name": "LayoutModel",
          "model_module_version": "1.2.0",
          "state": {
            "_view_name": "LayoutView",
            "grid_template_rows": null,
            "right": null,
            "justify_content": null,
            "_view_module": "@jupyter-widgets/base",
            "overflow": null,
            "_model_module_version": "1.2.0",
            "_view_count": null,
            "flex_flow": null,
            "width": null,
            "min_width": null,
            "border": null,
            "align_items": null,
            "bottom": null,
            "_model_module": "@jupyter-widgets/base",
            "top": null,
            "grid_column": null,
            "overflow_y": null,
            "overflow_x": null,
            "grid_auto_flow": null,
            "grid_area": null,
            "grid_template_columns": null,
            "flex": null,
            "_model_name": "LayoutModel",
            "justify_items": null,
            "grid_row": null,
            "max_height": null,
            "align_content": null,
            "visibility": null,
            "align_self": null,
            "height": null,
            "min_height": null,
            "padding": null,
            "grid_auto_rows": null,
            "grid_gap": null,
            "max_width": null,
            "order": null,
            "_view_module_version": "1.2.0",
            "grid_template_areas": null,
            "object_position": null,
            "object_fit": null,
            "grid_auto_columns": null,
            "margin": null,
            "display": null,
            "left": null
          }
        },
        "4de3a4829add415093c35bc5f0a21392": {
          "model_module": "@jupyter-widgets/controls",
          "model_name": "HBoxModel",
          "model_module_version": "1.5.0",
          "state": {
            "_view_name": "HBoxView",
            "_dom_classes": [],
            "_model_name": "HBoxModel",
            "_view_module": "@jupyter-widgets/controls",
            "_model_module_version": "1.5.0",
            "_view_count": null,
            "_view_module_version": "1.5.0",
            "box_style": "",
            "layout": "IPY_MODEL_ef97afbbc2954995934d015a603acb19",
            "_model_module": "@jupyter-widgets/controls",
            "children": [
              "IPY_MODEL_ee996ccafad6458aa8bc6f3f47c33a2c",
              "IPY_MODEL_42e9325dbf9349818cf00da7348dbcd7",
              "IPY_MODEL_ee0448c37d2442cdbc5721886ca13e1d"
            ]
          }
        },
        "ef97afbbc2954995934d015a603acb19": {
          "model_module": "@jupyter-widgets/base",
          "model_name": "LayoutModel",
          "model_module_version": "1.2.0",
          "state": {
            "_view_name": "LayoutView",
            "grid_template_rows": null,
            "right": null,
            "justify_content": null,
            "_view_module": "@jupyter-widgets/base",
            "overflow": null,
            "_model_module_version": "1.2.0",
            "_view_count": null,
            "flex_flow": null,
            "width": null,
            "min_width": null,
            "border": null,
            "align_items": null,
            "bottom": null,
            "_model_module": "@jupyter-widgets/base",
            "top": null,
            "grid_column": null,
            "overflow_y": null,
            "overflow_x": null,
            "grid_auto_flow": null,
            "grid_area": null,
            "grid_template_columns": null,
            "flex": null,
            "_model_name": "LayoutModel",
            "justify_items": null,
            "grid_row": null,
            "max_height": null,
            "align_content": null,
            "visibility": null,
            "align_self": null,
            "height": null,
            "min_height": null,
            "padding": null,
            "grid_auto_rows": null,
            "grid_gap": null,
            "max_width": null,
            "order": null,
            "_view_module_version": "1.2.0",
            "grid_template_areas": null,
            "object_position": null,
            "object_fit": null,
            "grid_auto_columns": null,
            "margin": null,
            "display": null,
            "left": null
          }
        },
        "ee996ccafad6458aa8bc6f3f47c33a2c": {
          "model_module": "@jupyter-widgets/controls",
          "model_name": "HTMLModel",
          "model_module_version": "1.5.0",
          "state": {
            "_view_name": "HTMLView",
            "style": "IPY_MODEL_973a0825a9e9442188afb8c5135603df",
            "_dom_classes": [],
            "description": "",
            "_model_name": "HTMLModel",
            "placeholder": "​",
            "_view_module": "@jupyter-widgets/controls",
            "_model_module_version": "1.5.0",
            "value": "",
            "_view_count": null,
            "_view_module_version": "1.5.0",
            "description_tooltip": null,
            "_model_module": "@jupyter-widgets/controls",
            "layout": "IPY_MODEL_4afca44450104a07bfffeb3cd033bb62"
          }
        },
        "42e9325dbf9349818cf00da7348dbcd7": {
          "model_module": "@jupyter-widgets/controls",
          "model_name": "FloatProgressModel",
          "model_module_version": "1.5.0",
          "state": {
            "_view_name": "ProgressView",
            "style": "IPY_MODEL_44b76844152f4acd9775a589a29ef477",
            "_dom_classes": [],
            "description": "",
            "_model_name": "FloatProgressModel",
            "bar_style": "success",
            "max": 5148,
            "_view_module": "@jupyter-widgets/controls",
            "_model_module_version": "1.5.0",
            "value": 5148,
            "_view_count": null,
            "_view_module_version": "1.5.0",
            "orientation": "horizontal",
            "min": 0,
            "description_tooltip": null,
            "_model_module": "@jupyter-widgets/controls",
            "layout": "IPY_MODEL_a56e06dfc949482c87222523fd374afd"
          }
        },
        "ee0448c37d2442cdbc5721886ca13e1d": {
          "model_module": "@jupyter-widgets/controls",
          "model_name": "HTMLModel",
          "model_module_version": "1.5.0",
          "state": {
            "_view_name": "HTMLView",
            "style": "IPY_MODEL_6dd9b877fcc04f60aebd4679e8294077",
            "_dom_classes": [],
            "description": "",
            "_model_name": "HTMLModel",
            "placeholder": "​",
            "_view_module": "@jupyter-widgets/controls",
            "_model_module_version": "1.5.0",
            "value": " 6144/? [00:00&lt;00:00, 117052.47it/s]",
            "_view_count": null,
            "_view_module_version": "1.5.0",
            "description_tooltip": null,
            "_model_module": "@jupyter-widgets/controls",
            "layout": "IPY_MODEL_f0ac2af1c6ba4e5cbe19815fb50ff722"
          }
        },
        "973a0825a9e9442188afb8c5135603df": {
          "model_module": "@jupyter-widgets/controls",
          "model_name": "DescriptionStyleModel",
          "model_module_version": "1.5.0",
          "state": {
            "_view_name": "StyleView",
            "_model_name": "DescriptionStyleModel",
            "description_width": "",
            "_view_module": "@jupyter-widgets/base",
            "_model_module_version": "1.5.0",
            "_view_count": null,
            "_view_module_version": "1.2.0",
            "_model_module": "@jupyter-widgets/controls"
          }
        },
        "4afca44450104a07bfffeb3cd033bb62": {
          "model_module": "@jupyter-widgets/base",
          "model_name": "LayoutModel",
          "model_module_version": "1.2.0",
          "state": {
            "_view_name": "LayoutView",
            "grid_template_rows": null,
            "right": null,
            "justify_content": null,
            "_view_module": "@jupyter-widgets/base",
            "overflow": null,
            "_model_module_version": "1.2.0",
            "_view_count": null,
            "flex_flow": null,
            "width": null,
            "min_width": null,
            "border": null,
            "align_items": null,
            "bottom": null,
            "_model_module": "@jupyter-widgets/base",
            "top": null,
            "grid_column": null,
            "overflow_y": null,
            "overflow_x": null,
            "grid_auto_flow": null,
            "grid_area": null,
            "grid_template_columns": null,
            "flex": null,
            "_model_name": "LayoutModel",
            "justify_items": null,
            "grid_row": null,
            "max_height": null,
            "align_content": null,
            "visibility": null,
            "align_self": null,
            "height": null,
            "min_height": null,
            "padding": null,
            "grid_auto_rows": null,
            "grid_gap": null,
            "max_width": null,
            "order": null,
            "_view_module_version": "1.2.0",
            "grid_template_areas": null,
            "object_position": null,
            "object_fit": null,
            "grid_auto_columns": null,
            "margin": null,
            "display": null,
            "left": null
          }
        },
        "44b76844152f4acd9775a589a29ef477": {
          "model_module": "@jupyter-widgets/controls",
          "model_name": "ProgressStyleModel",
          "model_module_version": "1.5.0",
          "state": {
            "_view_name": "StyleView",
            "_model_name": "ProgressStyleModel",
            "description_width": "",
            "_view_module": "@jupyter-widgets/base",
            "_model_module_version": "1.5.0",
            "_view_count": null,
            "_view_module_version": "1.2.0",
            "bar_color": null,
            "_model_module": "@jupyter-widgets/controls"
          }
        },
        "a56e06dfc949482c87222523fd374afd": {
          "model_module": "@jupyter-widgets/base",
          "model_name": "LayoutModel",
          "model_module_version": "1.2.0",
          "state": {
            "_view_name": "LayoutView",
            "grid_template_rows": null,
            "right": null,
            "justify_content": null,
            "_view_module": "@jupyter-widgets/base",
            "overflow": null,
            "_model_module_version": "1.2.0",
            "_view_count": null,
            "flex_flow": null,
            "width": null,
            "min_width": null,
            "border": null,
            "align_items": null,
            "bottom": null,
            "_model_module": "@jupyter-widgets/base",
            "top": null,
            "grid_column": null,
            "overflow_y": null,
            "overflow_x": null,
            "grid_auto_flow": null,
            "grid_area": null,
            "grid_template_columns": null,
            "flex": null,
            "_model_name": "LayoutModel",
            "justify_items": null,
            "grid_row": null,
            "max_height": null,
            "align_content": null,
            "visibility": null,
            "align_self": null,
            "height": null,
            "min_height": null,
            "padding": null,
            "grid_auto_rows": null,
            "grid_gap": null,
            "max_width": null,
            "order": null,
            "_view_module_version": "1.2.0",
            "grid_template_areas": null,
            "object_position": null,
            "object_fit": null,
            "grid_auto_columns": null,
            "margin": null,
            "display": null,
            "left": null
          }
        },
        "6dd9b877fcc04f60aebd4679e8294077": {
          "model_module": "@jupyter-widgets/controls",
          "model_name": "DescriptionStyleModel",
          "model_module_version": "1.5.0",
          "state": {
            "_view_name": "StyleView",
            "_model_name": "DescriptionStyleModel",
            "description_width": "",
            "_view_module": "@jupyter-widgets/base",
            "_model_module_version": "1.5.0",
            "_view_count": null,
            "_view_module_version": "1.2.0",
            "_model_module": "@jupyter-widgets/controls"
          }
        },
        "f0ac2af1c6ba4e5cbe19815fb50ff722": {
          "model_module": "@jupyter-widgets/base",
          "model_name": "LayoutModel",
          "model_module_version": "1.2.0",
          "state": {
            "_view_name": "LayoutView",
            "grid_template_rows": null,
            "right": null,
            "justify_content": null,
            "_view_module": "@jupyter-widgets/base",
            "overflow": null,
            "_model_module_version": "1.2.0",
            "_view_count": null,
            "flex_flow": null,
            "width": null,
            "min_width": null,
            "border": null,
            "align_items": null,
            "bottom": null,
            "_model_module": "@jupyter-widgets/base",
            "top": null,
            "grid_column": null,
            "overflow_y": null,
            "overflow_x": null,
            "grid_auto_flow": null,
            "grid_area": null,
            "grid_template_columns": null,
            "flex": null,
            "_model_name": "LayoutModel",
            "justify_items": null,
            "grid_row": null,
            "max_height": null,
            "align_content": null,
            "visibility": null,
            "align_self": null,
            "height": null,
            "min_height": null,
            "padding": null,
            "grid_auto_rows": null,
            "grid_gap": null,
            "max_width": null,
            "order": null,
            "_view_module_version": "1.2.0",
            "grid_template_areas": null,
            "object_position": null,
            "object_fit": null,
            "grid_auto_columns": null,
            "margin": null,
            "display": null,
            "left": null
          }
        },
        "132102b1318b467781ef6f07b9f757f4": {
          "model_module": "@jupyter-widgets/controls",
          "model_name": "HBoxModel",
          "model_module_version": "1.5.0",
          "state": {
            "_view_name": "HBoxView",
            "_dom_classes": [],
            "_model_name": "HBoxModel",
            "_view_module": "@jupyter-widgets/controls",
            "_model_module_version": "1.5.0",
            "_view_count": null,
            "_view_module_version": "1.5.0",
            "box_style": "",
            "layout": "IPY_MODEL_dc15255c08ef4022ab160e7cbe4d26c9",
            "_model_module": "@jupyter-widgets/controls",
            "children": [
              "IPY_MODEL_c0a230081a2b471a8fd658de616a2c90",
              "IPY_MODEL_c6a0df94c7344b16af811cd0285f1e3c",
              "IPY_MODEL_7ec4e33cab8b45e987370fa238120679"
            ]
          }
        },
        "dc15255c08ef4022ab160e7cbe4d26c9": {
          "model_module": "@jupyter-widgets/base",
          "model_name": "LayoutModel",
          "model_module_version": "1.2.0",
          "state": {
            "_view_name": "LayoutView",
            "grid_template_rows": null,
            "right": null,
            "justify_content": null,
            "_view_module": "@jupyter-widgets/base",
            "overflow": null,
            "_model_module_version": "1.2.0",
            "_view_count": null,
            "flex_flow": null,
            "width": null,
            "min_width": null,
            "border": null,
            "align_items": null,
            "bottom": null,
            "_model_module": "@jupyter-widgets/base",
            "top": null,
            "grid_column": null,
            "overflow_y": null,
            "overflow_x": null,
            "grid_auto_flow": null,
            "grid_area": null,
            "grid_template_columns": null,
            "flex": null,
            "_model_name": "LayoutModel",
            "justify_items": null,
            "grid_row": null,
            "max_height": null,
            "align_content": null,
            "visibility": null,
            "align_self": null,
            "height": null,
            "min_height": null,
            "padding": null,
            "grid_auto_rows": null,
            "grid_gap": null,
            "max_width": null,
            "order": null,
            "_view_module_version": "1.2.0",
            "grid_template_areas": null,
            "object_position": null,
            "object_fit": null,
            "grid_auto_columns": null,
            "margin": null,
            "display": null,
            "left": null
          }
        },
        "c0a230081a2b471a8fd658de616a2c90": {
          "model_module": "@jupyter-widgets/controls",
          "model_name": "HTMLModel",
          "model_module_version": "1.5.0",
          "state": {
            "_view_name": "HTMLView",
            "style": "IPY_MODEL_56080e26f0014f259eddc26f478835ce",
            "_dom_classes": [],
            "description": "",
            "_model_name": "HTMLModel",
            "placeholder": "​",
            "_view_module": "@jupyter-widgets/controls",
            "_model_module_version": "1.5.0",
            "value": "",
            "_view_count": null,
            "_view_module_version": "1.5.0",
            "description_tooltip": null,
            "_model_module": "@jupyter-widgets/controls",
            "layout": "IPY_MODEL_fbfde9259ca94f8da946a6466f8c4bf0"
          }
        },
        "c6a0df94c7344b16af811cd0285f1e3c": {
          "model_module": "@jupyter-widgets/controls",
          "model_name": "FloatProgressModel",
          "model_module_version": "1.5.0",
          "state": {
            "_view_name": "ProgressView",
            "style": "IPY_MODEL_bbc9dde97657462bbbc423ce4e05adfc",
            "_dom_classes": [],
            "description": "",
            "_model_name": "FloatProgressModel",
            "bar_style": "success",
            "max": 182040794,
            "_view_module": "@jupyter-widgets/controls",
            "_model_module_version": "1.5.0",
            "value": 182040794,
            "_view_count": null,
            "_view_module_version": "1.5.0",
            "orientation": "horizontal",
            "min": 0,
            "description_tooltip": null,
            "_model_module": "@jupyter-widgets/controls",
            "layout": "IPY_MODEL_9b9ea40d0f7340c4923dac2c52fcc845"
          }
        },
        "7ec4e33cab8b45e987370fa238120679": {
          "model_module": "@jupyter-widgets/controls",
          "model_name": "HTMLModel",
          "model_module_version": "1.5.0",
          "state": {
            "_view_name": "HTMLView",
            "style": "IPY_MODEL_6e5def539ad047d49ad9404d3b74acb1",
            "_dom_classes": [],
            "description": "",
            "_model_name": "HTMLModel",
            "placeholder": "​",
            "_view_module": "@jupyter-widgets/controls",
            "_model_module_version": "1.5.0",
            "value": " 182041600/? [00:16&lt;00:00, 11949504.71it/s]",
            "_view_count": null,
            "_view_module_version": "1.5.0",
            "description_tooltip": null,
            "_model_module": "@jupyter-widgets/controls",
            "layout": "IPY_MODEL_60a3f128dbff4ca7a8a61c2f6ba760f6"
          }
        },
        "56080e26f0014f259eddc26f478835ce": {
          "model_module": "@jupyter-widgets/controls",
          "model_name": "DescriptionStyleModel",
          "model_module_version": "1.5.0",
          "state": {
            "_view_name": "StyleView",
            "_model_name": "DescriptionStyleModel",
            "description_width": "",
            "_view_module": "@jupyter-widgets/base",
            "_model_module_version": "1.5.0",
            "_view_count": null,
            "_view_module_version": "1.2.0",
            "_model_module": "@jupyter-widgets/controls"
          }
        },
        "fbfde9259ca94f8da946a6466f8c4bf0": {
          "model_module": "@jupyter-widgets/base",
          "model_name": "LayoutModel",
          "model_module_version": "1.2.0",
          "state": {
            "_view_name": "LayoutView",
            "grid_template_rows": null,
            "right": null,
            "justify_content": null,
            "_view_module": "@jupyter-widgets/base",
            "overflow": null,
            "_model_module_version": "1.2.0",
            "_view_count": null,
            "flex_flow": null,
            "width": null,
            "min_width": null,
            "border": null,
            "align_items": null,
            "bottom": null,
            "_model_module": "@jupyter-widgets/base",
            "top": null,
            "grid_column": null,
            "overflow_y": null,
            "overflow_x": null,
            "grid_auto_flow": null,
            "grid_area": null,
            "grid_template_columns": null,
            "flex": null,
            "_model_name": "LayoutModel",
            "justify_items": null,
            "grid_row": null,
            "max_height": null,
            "align_content": null,
            "visibility": null,
            "align_self": null,
            "height": null,
            "min_height": null,
            "padding": null,
            "grid_auto_rows": null,
            "grid_gap": null,
            "max_width": null,
            "order": null,
            "_view_module_version": "1.2.0",
            "grid_template_areas": null,
            "object_position": null,
            "object_fit": null,
            "grid_auto_columns": null,
            "margin": null,
            "display": null,
            "left": null
          }
        },
        "bbc9dde97657462bbbc423ce4e05adfc": {
          "model_module": "@jupyter-widgets/controls",
          "model_name": "ProgressStyleModel",
          "model_module_version": "1.5.0",
          "state": {
            "_view_name": "StyleView",
            "_model_name": "ProgressStyleModel",
            "description_width": "",
            "_view_module": "@jupyter-widgets/base",
            "_model_module_version": "1.5.0",
            "_view_count": null,
            "_view_module_version": "1.2.0",
            "bar_color": null,
            "_model_module": "@jupyter-widgets/controls"
          }
        },
        "9b9ea40d0f7340c4923dac2c52fcc845": {
          "model_module": "@jupyter-widgets/base",
          "model_name": "LayoutModel",
          "model_module_version": "1.2.0",
          "state": {
            "_view_name": "LayoutView",
            "grid_template_rows": null,
            "right": null,
            "justify_content": null,
            "_view_module": "@jupyter-widgets/base",
            "overflow": null,
            "_model_module_version": "1.2.0",
            "_view_count": null,
            "flex_flow": null,
            "width": null,
            "min_width": null,
            "border": null,
            "align_items": null,
            "bottom": null,
            "_model_module": "@jupyter-widgets/base",
            "top": null,
            "grid_column": null,
            "overflow_y": null,
            "overflow_x": null,
            "grid_auto_flow": null,
            "grid_area": null,
            "grid_template_columns": null,
            "flex": null,
            "_model_name": "LayoutModel",
            "justify_items": null,
            "grid_row": null,
            "max_height": null,
            "align_content": null,
            "visibility": null,
            "align_self": null,
            "height": null,
            "min_height": null,
            "padding": null,
            "grid_auto_rows": null,
            "grid_gap": null,
            "max_width": null,
            "order": null,
            "_view_module_version": "1.2.0",
            "grid_template_areas": null,
            "object_position": null,
            "object_fit": null,
            "grid_auto_columns": null,
            "margin": null,
            "display": null,
            "left": null
          }
        },
        "6e5def539ad047d49ad9404d3b74acb1": {
          "model_module": "@jupyter-widgets/controls",
          "model_name": "DescriptionStyleModel",
          "model_module_version": "1.5.0",
          "state": {
            "_view_name": "StyleView",
            "_model_name": "DescriptionStyleModel",
            "description_width": "",
            "_view_module": "@jupyter-widgets/base",
            "_model_module_version": "1.5.0",
            "_view_count": null,
            "_view_module_version": "1.2.0",
            "_model_module": "@jupyter-widgets/controls"
          }
        },
        "60a3f128dbff4ca7a8a61c2f6ba760f6": {
          "model_module": "@jupyter-widgets/base",
          "model_name": "LayoutModel",
          "model_module_version": "1.2.0",
          "state": {
            "_view_name": "LayoutView",
            "grid_template_rows": null,
            "right": null,
            "justify_content": null,
            "_view_module": "@jupyter-widgets/base",
            "overflow": null,
            "_model_module_version": "1.2.0",
            "_view_count": null,
            "flex_flow": null,
            "width": null,
            "min_width": null,
            "border": null,
            "align_items": null,
            "bottom": null,
            "_model_module": "@jupyter-widgets/base",
            "top": null,
            "grid_column": null,
            "overflow_y": null,
            "overflow_x": null,
            "grid_auto_flow": null,
            "grid_area": null,
            "grid_template_columns": null,
            "flex": null,
            "_model_name": "LayoutModel",
            "justify_items": null,
            "grid_row": null,
            "max_height": null,
            "align_content": null,
            "visibility": null,
            "align_self": null,
            "height": null,
            "min_height": null,
            "padding": null,
            "grid_auto_rows": null,
            "grid_gap": null,
            "max_width": null,
            "order": null,
            "_view_module_version": "1.2.0",
            "grid_template_areas": null,
            "object_position": null,
            "object_fit": null,
            "grid_auto_columns": null,
            "margin": null,
            "display": null,
            "left": null
          }
        },
        "172e2a0006e74ec9b877f64e666c3678": {
          "model_module": "@jupyter-widgets/controls",
          "model_name": "HBoxModel",
          "model_module_version": "1.5.0",
          "state": {
            "_view_name": "HBoxView",
            "_dom_classes": [],
            "_model_name": "HBoxModel",
            "_view_module": "@jupyter-widgets/controls",
            "_model_module_version": "1.5.0",
            "_view_count": null,
            "_view_module_version": "1.5.0",
            "box_style": "",
            "layout": "IPY_MODEL_3e31a1a0bd8a4a699cb210d867e55106",
            "_model_module": "@jupyter-widgets/controls",
            "children": [
              "IPY_MODEL_e8244257bd3847a198c9ce8575ba3a33",
              "IPY_MODEL_f7f9aa56802d471fb6b6bb94364e2229",
              "IPY_MODEL_a45b41a9e4e44ee2b01014e2be4ab96b"
            ]
          }
        },
        "3e31a1a0bd8a4a699cb210d867e55106": {
          "model_module": "@jupyter-widgets/base",
          "model_name": "LayoutModel",
          "model_module_version": "1.2.0",
          "state": {
            "_view_name": "LayoutView",
            "grid_template_rows": null,
            "right": null,
            "justify_content": null,
            "_view_module": "@jupyter-widgets/base",
            "overflow": null,
            "_model_module_version": "1.2.0",
            "_view_count": null,
            "flex_flow": null,
            "width": null,
            "min_width": null,
            "border": null,
            "align_items": null,
            "bottom": null,
            "_model_module": "@jupyter-widgets/base",
            "top": null,
            "grid_column": null,
            "overflow_y": null,
            "overflow_x": null,
            "grid_auto_flow": null,
            "grid_area": null,
            "grid_template_columns": null,
            "flex": null,
            "_model_name": "LayoutModel",
            "justify_items": null,
            "grid_row": null,
            "max_height": null,
            "align_content": null,
            "visibility": null,
            "align_self": null,
            "height": null,
            "min_height": null,
            "padding": null,
            "grid_auto_rows": null,
            "grid_gap": null,
            "max_width": null,
            "order": null,
            "_view_module_version": "1.2.0",
            "grid_template_areas": null,
            "object_position": null,
            "object_fit": null,
            "grid_auto_columns": null,
            "margin": null,
            "display": null,
            "left": null
          }
        },
        "e8244257bd3847a198c9ce8575ba3a33": {
          "model_module": "@jupyter-widgets/controls",
          "model_name": "HTMLModel",
          "model_module_version": "1.5.0",
          "state": {
            "_view_name": "HTMLView",
            "style": "IPY_MODEL_1ee65e9187134749940457e457c8b86f",
            "_dom_classes": [],
            "description": "",
            "_model_name": "HTMLModel",
            "placeholder": "​",
            "_view_module": "@jupyter-widgets/controls",
            "_model_module_version": "1.5.0",
            "value": "",
            "_view_count": null,
            "_view_module_version": "1.5.0",
            "description_tooltip": null,
            "_model_module": "@jupyter-widgets/controls",
            "layout": "IPY_MODEL_0314dcff9788445380d3e0a452f102b2"
          }
        },
        "f7f9aa56802d471fb6b6bb94364e2229": {
          "model_module": "@jupyter-widgets/controls",
          "model_name": "FloatProgressModel",
          "model_module_version": "1.5.0",
          "state": {
            "_view_name": "ProgressView",
            "style": "IPY_MODEL_93d16d5234a841e9af1d8d2c850fc0ff",
            "_dom_classes": [],
            "description": "",
            "_model_name": "FloatProgressModel",
            "bar_style": "success",
            "max": 64275384,
            "_view_module": "@jupyter-widgets/controls",
            "_model_module_version": "1.5.0",
            "value": 64275384,
            "_view_count": null,
            "_view_module_version": "1.5.0",
            "orientation": "horizontal",
            "min": 0,
            "description_tooltip": null,
            "_model_module": "@jupyter-widgets/controls",
            "layout": "IPY_MODEL_9ecd86b323e14ca9908e514b38cca856"
          }
        },
        "a45b41a9e4e44ee2b01014e2be4ab96b": {
          "model_module": "@jupyter-widgets/controls",
          "model_name": "HTMLModel",
          "model_module_version": "1.5.0",
          "state": {
            "_view_name": "HTMLView",
            "style": "IPY_MODEL_c1bb323a68144045939be6192654b4da",
            "_dom_classes": [],
            "description": "",
            "_model_name": "HTMLModel",
            "placeholder": "​",
            "_view_module": "@jupyter-widgets/controls",
            "_model_module_version": "1.5.0",
            "value": " 64275456/? [00:06&lt;00:00, 10987548.18it/s]",
            "_view_count": null,
            "_view_module_version": "1.5.0",
            "description_tooltip": null,
            "_model_module": "@jupyter-widgets/controls",
            "layout": "IPY_MODEL_ab7ace3555b94208878a68c728569a72"
          }
        },
        "1ee65e9187134749940457e457c8b86f": {
          "model_module": "@jupyter-widgets/controls",
          "model_name": "DescriptionStyleModel",
          "model_module_version": "1.5.0",
          "state": {
            "_view_name": "StyleView",
            "_model_name": "DescriptionStyleModel",
            "description_width": "",
            "_view_module": "@jupyter-widgets/base",
            "_model_module_version": "1.5.0",
            "_view_count": null,
            "_view_module_version": "1.2.0",
            "_model_module": "@jupyter-widgets/controls"
          }
        },
        "0314dcff9788445380d3e0a452f102b2": {
          "model_module": "@jupyter-widgets/base",
          "model_name": "LayoutModel",
          "model_module_version": "1.2.0",
          "state": {
            "_view_name": "LayoutView",
            "grid_template_rows": null,
            "right": null,
            "justify_content": null,
            "_view_module": "@jupyter-widgets/base",
            "overflow": null,
            "_model_module_version": "1.2.0",
            "_view_count": null,
            "flex_flow": null,
            "width": null,
            "min_width": null,
            "border": null,
            "align_items": null,
            "bottom": null,
            "_model_module": "@jupyter-widgets/base",
            "top": null,
            "grid_column": null,
            "overflow_y": null,
            "overflow_x": null,
            "grid_auto_flow": null,
            "grid_area": null,
            "grid_template_columns": null,
            "flex": null,
            "_model_name": "LayoutModel",
            "justify_items": null,
            "grid_row": null,
            "max_height": null,
            "align_content": null,
            "visibility": null,
            "align_self": null,
            "height": null,
            "min_height": null,
            "padding": null,
            "grid_auto_rows": null,
            "grid_gap": null,
            "max_width": null,
            "order": null,
            "_view_module_version": "1.2.0",
            "grid_template_areas": null,
            "object_position": null,
            "object_fit": null,
            "grid_auto_columns": null,
            "margin": null,
            "display": null,
            "left": null
          }
        },
        "93d16d5234a841e9af1d8d2c850fc0ff": {
          "model_module": "@jupyter-widgets/controls",
          "model_name": "ProgressStyleModel",
          "model_module_version": "1.5.0",
          "state": {
            "_view_name": "StyleView",
            "_model_name": "ProgressStyleModel",
            "description_width": "",
            "_view_module": "@jupyter-widgets/base",
            "_model_module_version": "1.5.0",
            "_view_count": null,
            "_view_module_version": "1.2.0",
            "bar_color": null,
            "_model_module": "@jupyter-widgets/controls"
          }
        },
        "9ecd86b323e14ca9908e514b38cca856": {
          "model_module": "@jupyter-widgets/base",
          "model_name": "LayoutModel",
          "model_module_version": "1.2.0",
          "state": {
            "_view_name": "LayoutView",
            "grid_template_rows": null,
            "right": null,
            "justify_content": null,
            "_view_module": "@jupyter-widgets/base",
            "overflow": null,
            "_model_module_version": "1.2.0",
            "_view_count": null,
            "flex_flow": null,
            "width": null,
            "min_width": null,
            "border": null,
            "align_items": null,
            "bottom": null,
            "_model_module": "@jupyter-widgets/base",
            "top": null,
            "grid_column": null,
            "overflow_y": null,
            "overflow_x": null,
            "grid_auto_flow": null,
            "grid_area": null,
            "grid_template_columns": null,
            "flex": null,
            "_model_name": "LayoutModel",
            "justify_items": null,
            "grid_row": null,
            "max_height": null,
            "align_content": null,
            "visibility": null,
            "align_self": null,
            "height": null,
            "min_height": null,
            "padding": null,
            "grid_auto_rows": null,
            "grid_gap": null,
            "max_width": null,
            "order": null,
            "_view_module_version": "1.2.0",
            "grid_template_areas": null,
            "object_position": null,
            "object_fit": null,
            "grid_auto_columns": null,
            "margin": null,
            "display": null,
            "left": null
          }
        },
        "c1bb323a68144045939be6192654b4da": {
          "model_module": "@jupyter-widgets/controls",
          "model_name": "DescriptionStyleModel",
          "model_module_version": "1.5.0",
          "state": {
            "_view_name": "StyleView",
            "_model_name": "DescriptionStyleModel",
            "description_width": "",
            "_view_module": "@jupyter-widgets/base",
            "_model_module_version": "1.5.0",
            "_view_count": null,
            "_view_module_version": "1.2.0",
            "_model_module": "@jupyter-widgets/controls"
          }
        },
        "ab7ace3555b94208878a68c728569a72": {
          "model_module": "@jupyter-widgets/base",
          "model_name": "LayoutModel",
          "model_module_version": "1.2.0",
          "state": {
            "_view_name": "LayoutView",
            "grid_template_rows": null,
            "right": null,
            "justify_content": null,
            "_view_module": "@jupyter-widgets/base",
            "overflow": null,
            "_model_module_version": "1.2.0",
            "_view_count": null,
            "flex_flow": null,
            "width": null,
            "min_width": null,
            "border": null,
            "align_items": null,
            "bottom": null,
            "_model_module": "@jupyter-widgets/base",
            "top": null,
            "grid_column": null,
            "overflow_y": null,
            "overflow_x": null,
            "grid_auto_flow": null,
            "grid_area": null,
            "grid_template_columns": null,
            "flex": null,
            "_model_name": "LayoutModel",
            "justify_items": null,
            "grid_row": null,
            "max_height": null,
            "align_content": null,
            "visibility": null,
            "align_self": null,
            "height": null,
            "min_height": null,
            "padding": null,
            "grid_auto_rows": null,
            "grid_gap": null,
            "max_width": null,
            "order": null,
            "_view_module_version": "1.2.0",
            "grid_template_areas": null,
            "object_position": null,
            "object_fit": null,
            "grid_auto_columns": null,
            "margin": null,
            "display": null,
            "left": null
          }
        }
      }
    }
  },
  "cells": [
    {
      "cell_type": "markdown",
      "metadata": {
        "id": "dzV9wsJ5pGhf"
      },
      "source": [
        "# <img src=\"https://img.icons8.com/bubbles/50/000000/mind-map.png\" style=\"height:50px;display:inline\"> EE 046211 - Technion - Deep Learning\n",
        "---\n",
        "\n",
        "## HW2 - Multilayer NNs and Convolutional NNs\n",
        "---"
      ]
    },
    {
      "cell_type": "markdown",
      "metadata": {
        "id": "bq2c8X93pGhh"
      },
      "source": [
        "### <img src=\"https://img.icons8.com/clouds/96/000000/keyboard.png\" style=\"height:50px;display:inline\"> Keyboard Shortcuts\n",
        "---\n",
        "* Run current cell: **Ctrl + Enter**\n",
        "* Run current cell and move to the next: **Shift + Enter**\n",
        "* Show lines in a code cell: **Esc + L**\n",
        "* View function documentation: **Shift + Tab** inside the parenthesis or `help(name_of_module)`\n",
        "* New cell below: **Esc + B**\n",
        "* Delete cell: **Esc + D, D** (two D's)"
      ]
    },
    {
      "cell_type": "markdown",
      "metadata": {
        "id": "vZZybn3NpGhh"
      },
      "source": [
        "### <img src=\"https://img.icons8.com/bubbles/50/000000/information.png\" style=\"height:50px;display:inline\"> Students Information\n",
        "---\n",
        "* Fill in\n",
        "\n",
        "|Name     |Campus Email| ID  |\n",
        "|---------|--------------------------------|----------|\n",
        "|Nitzan Shitrit| nitzan.s@campus.technion.ac.il| 314991936|\n",
        "|Priel Salomon| prielsalomon@campus.technion.ac.il| 307931519|\n"
      ]
    },
    {
      "cell_type": "markdown",
      "metadata": {
        "id": "dDK5zqhdpGhi"
      },
      "source": [
        "### <img src=\"https://img.icons8.com/bubbles/50/000000/upload-to-cloud.png\" style=\"height:50px;display:inline\"> Submission Guidelines\n",
        "---\n",
        "* Maximal garde: 100.\n",
        "* Submission only in **pairs**. \n",
        "    * Please make sure you have registered your group in Moodle (there is a group creation component on the Moodle where you need to create your group and assign members).\n",
        "* **No handwritten submissions.** You can choose whether to answer in a Markdown cell in this notebook or attach a PDF with your answers.\n",
        "* <a style='color:red'> SAVE THE NOTEBOOKS WITH THE OUTPUT, CODE CELLS THAT WERE NOT RUN WILL NOT GET ANY POINTS! </a>\n",
        "* What you have to submit:\n",
        "    * If you have answered the questions in the notebook, you should submit this file only, with the name: `ee046211_hw2_id1_id2.ipynb`.\n",
        "    * If you answered the questions in a different file you should submit a `.zip` file with the name `ee046211_hw2_id1_id2.zip` with content:\n",
        "        * `ee046211_hw2_id1_id2.ipynb` - the code tasks\n",
        "        * `ee046211_hw2_id1_id2.pdf` - answers to questions.\n",
        "    * No other file-types (`.py`, `.docx`...) will be accepted.\n",
        "* Submission on the course website (Moodle).\n",
        "* **Latex in Colab** - in some cases, Latex equations may no be rendered. To avoid this, make sure to not use *bullets* in your answers (\"* some text here with Latex equations\" -> \"some text here with Latex equations\")."
      ]
    },
    {
      "cell_type": "markdown",
      "metadata": {
        "id": "pmSj_UufpGhi"
      },
      "source": [
        "### <img src=\"https://img.icons8.com/dusk/64/000000/online.png\" style=\"height:50px;display:inline\"> Working Online and Locally\n",
        "---\n",
        "* You can choose your working environment:\n",
        "    1. `Jupyter Notebook`, **locally** with <a href=\"https://www.anaconda.com/distribution/\">Anaconda</a> or **online** on <a href=\"https://colab.research.google.com/\">Google Colab</a>\n",
        "        * Colab also supports running code on GPU, so if you don't have one, Colab is the way to go. To enable GPU on Colab, in the menu: `Runtime`$\\rightarrow$ `Change Runtime Type` $\\rightarrow$`GPU`.\n",
        "    2. Python IDE such as <a href=\"https://www.jetbrains.com/pycharm/\">PyCharm</a> or <a href=\"https://code.visualstudio.com/\">Visual Studio Code</a>.\n",
        "        * Both allow editing and running Jupyter Notebooks.\n",
        "\n",
        "* Please refer to `Setting Up the Working Environment.pdf` on the Moodle or our GitHub (https://github.com/taldatech/ee046211-deep-learning) to help you get everything installed.\n",
        "* If you need any technical assistance, please go to our Piazza forum (`hw2` folder) and describe your problem (preferably with images)."
      ]
    },
    {
      "cell_type": "markdown",
      "metadata": {
        "id": "nlp1Fp4ppGhj"
      },
      "source": [
        "### <img src=\"https://img.icons8.com/bubbles/50/000000/checklist.png\" style=\"height:50px;display:inline\"> Agenda\n",
        "---\n",
        "\n",
        "* [Part 1 - Theory](#-Part-1---Theory)\n",
        "    * [Q1 - Generalization in A Teacher-Student Setup](#-Question-1--Generalization-in-A-Teacher-Student-Setup)\n",
        "    * [Q2 - Backpropagation By Hand](#-Question-2---Backpropagation-By-Hand)\n",
        "    * [Q3 - Deep Double Descent](#-Question-3---Deep-Double-Descent)\n",
        "    * [Q4 - Initialization](#-Question-4---Initialization)\n",
        "    * [Q5 - MLP and Invaraince](#-Question-5---MLP-and-Invaraince)\n",
        "    * [Q6 - VGG Architecture](#-Question-6--VGG-Architecture)\n",
        "* [Part 2 - Code Assignments](#-Part-2---Code-Assignments)\n",
        "    * [Task 1 - The Importance of Activation and Initialization](#-Task-1---The-Importance-of-Activation-and-Initialization)\n",
        "    * [Task 2 - FashionMNIST Deep Classifer](#-Task-2---FashionMNIST-Deep-Classifer)\n",
        "    * [Task 3 - Design a CNN](#-Task-3---Design-a-CNN)\n",
        "* [Credits](#-Credits)"
      ]
    },
    {
      "cell_type": "markdown",
      "metadata": {
        "id": "XKtSiQX_pGhj"
      },
      "source": [
        "### <img src=\"https://img.icons8.com/cute-clipart/64/000000/ball-point-pen.png\" style=\"height:50px;display:inline\"> Part 1 - Theory\n",
        "---\n",
        "* You can choose whether to answser these straight in the notebook (Markdown + Latex) or use another editor (Word, LyX, Latex, Overleaf...) and submit an additional PDF file, **but no handwritten submissions**.\n",
        "* You can attach additional figures (drawings, graphs,...) in a separate PDF file, just make sure to refer to them in your answers.\n",
        "\n",
        "* $\\large\\LaTeX$ <a href=\"https://kapeli.com/cheat_sheets/LaTeX_Math_Symbols.docset/Contents/Resources/Documents/index\">Cheat-Sheet</a> (to write equations)\n",
        "    * <a href=\"http://tug.ctan.org/info/latex-refsheet/LaTeX_RefSheet.pdf\">Another Cheat-Sheet</a>"
      ]
    },
    {
      "cell_type": "markdown",
      "metadata": {
        "id": "RsqSFZG1pGhj"
      },
      "source": [
        "## <img src=\"https://img.icons8.com/clouds/100/000000/question-mark.png\" style=\"height:50px;display:inline\"> Question 1 -Generalization in A Teacher-Student Setup\n",
        "---\n",
        "\n",
        "Recall from lecture 4 the Risk $\\mathcal{R}(w)$: $$ \\mathcal{R}(w) \\triangleq \\mathbb{E}_{x^{(0)} \\sim \\mathcal{N}(0, I) } \\left[ ||w^Tx^{(0)} - w_t^Tx^{(0)}||^2 \\right] $$\n",
        "\n",
        "Prove:\n",
        "\n",
        "$$ \\mathcal{R}(w) = ||w-w_t||^2 $$"
      ]
    },
    {
      "cell_type": "markdown",
      "metadata": {
        "id": "x6rxZqItgjdL"
      },
      "source": [
        "## <img src=\"https://img.icons8.com/clouds/100/000000/question-mark.png\" style=\"height:50px;display:inline\"> Question 2 - Backpropagation By Hand\n",
        "---\n",
        "Consider the following network:\n",
        "<img src=\"https://raw.githubusercontent.com/taldatech/ee046211-deep-learning/main/assets/backprop_by_hand_ex1.png\" style=\"height:300px\">\n",
        "\n",
        "We will work with one sample for this example, but it can be extended to mini-batches.\n",
        "\n",
        "* Input: $x = \\begin{bmatrix} 1 \\\\ 4 \\\\ 5 \\end{bmatrix} \\in \\mathbb{R}^3$\n",
        "* Output (target): $ t = \\begin{bmatrix} 0.1 \\\\ 0.05 \\end{bmatrix} \\in \\mathbb{R}^2 $\n",
        "* Number of Hidden Layers: 1\n",
        "* Activation: Sigmoid for both hidden and output layers\n",
        "* Loss Functions: MSE\n",
        "\n",
        "We initialize the weights and biases to random values as follows:\n",
        "<img src=\"https://raw.githubusercontent.com/taldatech/ee046211-deep-learning/main/assets/backprop_by_hand_ex2.png\" style=\"height:300px\">\n",
        "\n",
        "1. Perform one forward pass and calculate the MSE.\n",
        "2. Perform backpropagation (one backward pass, i.e., calculate the gradients).\n",
        "3. With a learning rate of $\\alpha = 0.01$, what are the new values of the weights after performing the forward pass and backward pass (assume we use SGD)?"
      ]
    },
    {
      "cell_type": "markdown",
      "metadata": {
        "id": "HBh5sjrTgjdL"
      },
      "source": [
        "## <img src=\"https://img.icons8.com/clouds/100/000000/question-mark.png\" style=\"height:50px;display:inline\"> Question 3 - Deep Double Descent\n",
        "---\n",
        "\n",
        "For the following plots:\n",
        "1. Where is the critical point (the point of transition between the \"Classical Regime\" and \"Modern Regime\") of the deep double descent?\n",
        "2. What type of double descent is shown? Explain.\n",
        "    \n",
        "\n",
        "a. <img src='https://raw.githubusercontent.com/taldatech/ee046211-deep-learning/main/assets/double_descent_transformer.PNG' style=\"height:300px\">\n",
        "\n",
        "b. <img src='https://raw.githubusercontent.com/taldatech/ee046211-deep-learning/main/assets/double_descent_resnet.PNG' style=\"height:300px\">\n",
        "\n",
        "c. <img src='https://raw.githubusercontent.com/taldatech/ee046211-deep-learning/main/assets/double_descent_intermediate.PNG' style=\"height:300px\">"
      ]
    },
    {
      "cell_type": "markdown",
      "metadata": {
        "id": "Sv-L1gEbgjdM"
      },
      "source": [
        "## <img src=\"https://img.icons8.com/clouds/100/000000/question-mark.png\" style=\"height:50px;display:inline\"> Question 4 - Initialization\n",
        "---\n",
        "\n",
        "Recall that in lecture 5 we were discussing how to calculate the initialization variance, and reached the conclusion that $$ \\sigma_l =\\frac{1}{\\sqrt{d_{l-1}\\mathbb{E}_{z\\sim \\mathcal{N}(0, 1)} \\left[\\varphi^2(z)\\right]}} $$\n",
        "Show that for ReLU activation ($\\varphi(z) = max(0,z)$), the optimal variance satisfies: $$ \\sigma_l = \\sqrt{\\frac{2}{d_{l-1}}}$$\n",
        "\n",
        "All the notations are the same as in the lecture slides."
      ]
    },
    {
      "cell_type": "markdown",
      "metadata": {
        "id": "QkesYDyLgjdM"
      },
      "source": [
        "## <img src=\"https://img.icons8.com/clouds/100/000000/question-mark.png\" style=\"height:50px;display:inline\"> Question 5 - MLP and Invaraince\n",
        "---\n",
        "\n",
        "You have to design an MLP with the following input: DNA sequences of length $d$. The DNA is a sequence of bases, where each base can be one of 4 options: $(C, T, G, A)$. Thus, the input can be described as the following matrix: $$ X \\in \\mathcal{R}^{4 \\times d}, $$ where $X[j,i]$ denotes the measured value of base concentration of the $j^{th}$ base at location $i$. \n",
        "\n",
        "The network should output a **binary** classification $y \\in \\{-1, 1\\}$ for a specific property we wish to find. The network will be trained on samples $\\{X^{(n)}, y^{(n)} \\}_{n=1}^{N}$, with a **logistic loss function**.\n",
        "\n",
        "First, we will examine a network with 1 hidden layerof size $4 \\times d$ and a **LeakyReLU** activation $\\phi$: $$ f_w(X) = \\sum_{r=1}^{4}\\sum_{k=1}^d W_2[r,k]\\phi\\left(\\sum_{j=1}^{4}\\sum_{i=1}^d W_1[r, k,j, i]X[j, i] \\right),$$ where $w=\\{W_1, W_2\\}$ are the layers of the weight **tensors**. After training is done, the classification will be done with $\\text{sign}(f(X))$.\n",
        "\n",
        "1. Which invariances exist in the network's parameters?\n",
        "2. Now, we notice the fact that: the *direction* in which the DNA is scanned is arbitrary. Thus, if for two inputs $X, \\tilde{X}$: $$ \\forall i,j: \\: X[j,i] = \\tilde{X}[j, d-i], $$ then the two inputs are **equivalent** in their meaning. What constraints should we put on the network's parameters to improve the network's classification performance?\n",
        "3. After that, we now recall that the DNA bases come in pairs, and thus if for two inputs $X, \\tilde{X}$: $$ \\forall i,j : \\: X[j,i] = \\tilde{X}[(j+2)\\text{mod}4,i], $$ then the two inputs are **equivalent** in their meaning. What constraints should we put on the network's parameters to improve the network's classification performance?\n",
        "4. We now notice that the measurement process in noisy, each sample $X^{(n)}$ is in arbitrary scale, and thus if for two $X, \\tilde{X}$: $$ \\forall i,j: \\: X[j,i] = c\\tilde{X}[j,i], $$ for some constant $c>0$, then the two inputs are **equivalent** in their meaning.\n",
        "    * (a) For the given network, that **is already trained**, what is the effect of the scale $c$ on the classification result?\n",
        "    * (b) Can the arbitrary scale hurt the training process? Hint: think what happens to the gradient of each sample.\n",
        "    * (c) How can use this information to improve the classifier performance?"
      ]
    },
    {
      "cell_type": "markdown",
      "metadata": {
        "id": "i9GcScJmgjdM"
      },
      "source": [
        "## <img src=\"https://img.icons8.com/clouds/100/000000/question-mark.png\" style=\"height:50px;display:inline\"> Question 6 -VGG Architecture\n",
        "---\n",
        "\n",
        "1. The VGG-11 CNN architecture consists of 11 convolution (CONV)/fully-connected (FC) layers (every CONV layer has the same padding and stride, every MAXPOOL layer is 2×2 and has padding of 0 and stride 2). Fill in the table. You need to **consider the bias**.\n",
        "\n",
        "\n",
        "* CONV$M$-$N$: a convolutional layer with $N$ neurons, each of size $M \\times M \\times D$, where $D$ is the number of filters. $stride=1, padding=1$ \n",
        "* POOL2: $2 \\times 2$ Max Pooling with $stride=2$\n",
        "    * In case the input of the layer is odd, you should round down. For example, if the output of the layer should be $3.5 \\times 3.5 \\times 3$, you should round to $3 \\times 3 \\times 3$ (i.e., ignore the last column of the input image when performing MaxPooling).\n",
        "* FC-N: a fully connected layer with $N$ neurons.\n",
        "\n",
        "\n",
        "| Layer  | Output Dimension  | Number of Parameters (Weights) |\n",
        "|---|---|---|\n",
        "| INPUT  |  224x224x3 | 0  |\n",
        "|  CONV3-64 | -  | -  | \n",
        "| ReLU |  - | -  |\n",
        "| POOL2|  - | -  |\n",
        "|CONV3-128 | - | -|\n",
        "|ReLU | - | -|\n",
        "| POOL2|  - | -  |\n",
        "|CONV3-256 | - | -|\n",
        "|ReLU | - | -|\n",
        "|CONV3-256 | - | -|\n",
        "|ReLU | - | -|\n",
        "| POOL2|  - | -  |\n",
        "|CONV3-512 | - | -|\n",
        "|ReLU | - | -|\n",
        "|CONV3-512 | - | -|\n",
        "|ReLU | - | -|\n",
        "| POOL2|  - | -  |\n",
        "|CONV3-512 | - | -|\n",
        "|ReLU | - | -|\n",
        "|CONV3-512 | - | -|\n",
        "|ReLU | - | -|\n",
        "| POOL2|  - | -  |\n",
        "| FC-4096|  - | -  |\n",
        "| FC-4096|  - | -  |\n",
        "| FC-1000|  - | -  |\n",
        "| SOFTMAX|  - | -  |\n",
        "\n",
        "2. What is the total number of parameters? (use a calculator for this one)\n",
        "3. What percentage of the weights are found in the fully-connected layers?"
      ]
    },
    {
      "cell_type": "markdown",
      "metadata": {
        "id": "7D-14iM7pGhm"
      },
      "source": [
        "### <img src=\"https://img.icons8.com/officel/80/000000/code.png\" style=\"height:50px;display:inline\"> Part 2 - Code Assignments\n",
        "---\n",
        "* You must write your code in this notebook and save it with the output of all of the code cells.\n",
        "* Additional text can be added in Markdown cells.\n",
        "* You can use any other IDE you like (PyCharm, VSCode...) to write/debug your code, but for the submission you must copy it to this notebook, run the code and save the notebook with the output."
      ]
    },
    {
      "cell_type": "markdown",
      "metadata": {
        "id": "zG46t7mjgjdN"
      },
      "source": [
        "#### Tips\n",
        "---\n",
        "1. Uniformly distributed tensors - `torch.Tensor(dim1, dim2, ...,dimN).uniform_(-1, 1)`\n",
        "2. Separation to **validation set** in PyTorch - <a href=\"https://gist.github.com/MattKleinsmith/5226a94bad5dd12ed0b871aed98cb123\">See example here</a>."
      ]
    },
    {
      "cell_type": "code",
      "metadata": {
        "id": "tFsIxYdXgjdN"
      },
      "source": [
        "# imports for the practice (you can add more if you need)\n",
        "import os\n",
        "import math\n",
        "import time\n",
        "import numpy as np\n",
        "import pandas as pd\n",
        "import torch\n",
        "import torch.nn as nn\n",
        "import torch.optim as optim\n",
        "import torchvision\n",
        "import torchvision.datasets as datasets\n",
        "from torchvision import transforms\n",
        "from torch.utils.data import Dataset, DataLoader\n",
        "from torch.utils.data.sampler import SubsetRandomSampler\n",
        "from torchvision.utils import make_grid\n",
        "import matplotlib.pyplot as plt\n",
        "# %matplotlib notebook\n",
        "%matplotlib inline\n",
        "\n",
        "seed = 123\n",
        "np.random.seed(seed)\n",
        "torch.manual_seed(seed)\n",
        "\n",
        "device = torch.device(\"cuda:0\" if torch.cuda.is_available() else \"cpu\")"
      ],
      "execution_count": 1,
      "outputs": []
    },
    {
      "cell_type": "markdown",
      "metadata": {
        "id": "qoN1Vk-5gjdP"
      },
      "source": [
        "### <img src=\"https://img.icons8.com/color/48/000000/code.png\" style=\"height:50px;display:inline\"> Task 1 - The Importance of Activation and Initialization\n",
        "---\n",
        "In this task, we are going to use $x \\in \\mathcal{R}^{512}$ and simple neural network that outputs $f(x) \\in \\mathcal{R}^{512}$. The network will have 100 layers with 512 units in each layer.\n",
        "\n",
        "1. We initialize the weights from a unit normal distribution. Run the following code cell and explain what happens. Add a short piece of code that locates when it happens (hint: use `torch.isnan()`). **Print** the layer number.\n",
        "2. We can demonstrate that at a given layer, the matrix product of inputs $x$ and weight matrix $a$ that is initialized from a standard normal distribution will, on average, have a standard deviation very close to the square root of the number of input connections. For our example, with 512 dimensions, show that for 10,000 multiplications of $a$ and $x$, the empirical standard deviation is similar to the square root of the number of input connections. Use the unbiased version: $$ \\hat{std} = \\sqrt{\\frac{\\sum_{i=1}^{10000}\\frac{1}{N}\\sum_{j=1}^N y^2}{10000}}, $$ where $y=ax$ and $N$ is the number of input connections. **Print** the mean, std and the square root of the number of input connections.\n",
        "3. For the code from 1, normalize the weight initialization by the square root of the input connections. How does that change the outcome? **Print** the mean and std after the modification.\n",
        "4. Add a `tanh()` activation after each layer for the code from 1. **Print** the mean and std after the modification. Explain the result.\n",
        "5. Xavier initialization sets a layer’s weights to values chosen from a random uniform distribution that’s bounded between $$\\pm \\sqrt{\\frac{6}{n_i + n_{i+1}}}$$ where $n_i$ is the number of incoming network connections, or “fan-in,” to the layer, and $ n_{i+1}$ is the number of outgoing network connections from that layer, also known as the “fan-out”. Glorot and Bengio believed that Xavier weight initialization would maintain the variance of activations and back-propagated gradients all the way up or down the layers of a network and demonstrated that networks initialized with Xavier achieved substantially quicker convergence and higher accuracy. Implement **Xavier Uniform** as `xavier_init(fan_in, fan_out)`, a function that returns a tensor initialized according to **Xavier Uniform**. Use it on the simple network from 1 with `tanh` activation. **Print** the mean and std after the modification.\n",
        "6. If you try to replace the `tanh` activation with `relu` activation in section 5, you will see very different results. Xavier strives to acheive activation outputs of each layer to have a mean of 0 and a standard deviation around 1, on average. When using a ReLU activation, a single layer will, on average have standard deviation that’s very close to the square root of the number of input connections, **divided by the square root of two** ($\\sqrt{\\frac{512}{2}}$ in our example). **Kaiming He et. al.** proposed an initialization scheme that’s tailored for deep neural nets that use these kinds of asymmetric, non-linear activations. Implement **Kaiming Normal** as `kaiming_init(fan_in, fan_out)`, a function that returns a tensor initialized according to **Kaiming Normal** (use `fan_in` mode). Use it on the simple network from 1 with `relu` activation. **Print** the mean and std after the modification. What happens when you use Xavier with RelU activation?"
      ]
    },
    {
      "cell_type": "code",
      "metadata": {
        "id": "iip64wuGgjdQ",
        "colab": {
          "base_uri": "https://localhost:8080/"
        },
        "outputId": "fdaac85e-96e4-42d2-ea46-b390cd9aeecf"
      },
      "source": [
        "# 1.\n",
        "is_nan = False\n",
        "x = torch.randn(512)\n",
        "for i in range(100):\n",
        "    a = torch.randn(512, 512)\n",
        "    x = a @ x\n",
        "    if (torch.isnan(x.mean()) and not(is_nan)):\n",
        "        print(\"layer number: \", i)\n",
        "        is_nan = True\n",
        "print(x.mean(), x.std())"
      ],
      "execution_count": 2,
      "outputs": [
        {
          "output_type": "stream",
          "name": "stdout",
          "text": [
            "layer number:  27\n",
            "tensor(nan) tensor(nan)\n"
          ]
        }
      ]
    },
    {
      "cell_type": "markdown",
      "metadata": {
        "id": "VeBVW79sgjdQ"
      },
      "source": [
        "Answers:\n",
        "\n",
        "1. the mean and std values are exploding, due to bad initializtion of network weights. \n",
        "As wee can see, starting at layer 27, the mean and std values are nans."
      ]
    },
    {
      "cell_type": "code",
      "metadata": {
        "id": "INTmbnX2gjdQ",
        "colab": {
          "base_uri": "https://localhost:8080/"
        },
        "outputId": "85f07ca7-1b1b-48f8-bf18-1c6a8a848646"
      },
      "source": [
        "# 2.\n",
        "N = 512 # num of input connections\n",
        "mean = 0\n",
        "var = 0\n",
        "\n",
        "for i in range(10_000):\n",
        "    x = torch.randn(512)\n",
        "    a = torch.randn(512, 512)\n",
        "    y = a @ x\n",
        "    mean += y.mean().item()\n",
        "    var += y.pow(2).mean().item()\n",
        "\n",
        "empiricalStd = math.sqrt(var/10_000)\n",
        "empiricalMean = mean/10_000\n",
        "\n",
        "print(\"empirical mean: \", empiricalMean)\n",
        "print(\"empirical std: \", empiricalStd)\n",
        "print(\"root of number of input connections: \", math.sqrt(N))\n"
      ],
      "execution_count": 3,
      "outputs": [
        {
          "output_type": "stream",
          "name": "stdout",
          "text": [
            "empirical mean:  0.022641575166024268\n",
            "empirical std:  22.617691293031655\n",
            "root of number of input connections:  22.627416997969522\n"
          ]
        }
      ]
    },
    {
      "cell_type": "code",
      "source": [
        "# 3. \n",
        "N = 512 # num of input connections\n",
        "x = torch.randn(512)\n",
        "for i in range(100):\n",
        "    a = torch.randn(512, 512) / math.sqrt(N)\n",
        "    x = a @ x\n",
        "\n",
        "print(\"mean: \", x.mean())\n",
        "print(\"std: \", x.std())"
      ],
      "metadata": {
        "colab": {
          "base_uri": "https://localhost:8080/"
        },
        "id": "r0SYrteG6zwL",
        "outputId": "802f17cf-8170-4fc7-a3bb-b847c3a8505f"
      },
      "execution_count": 4,
      "outputs": [
        {
          "output_type": "stream",
          "name": "stdout",
          "text": [
            "mean:  tensor(0.1289)\n",
            "std:  tensor(1.3153)\n"
          ]
        }
      ]
    },
    {
      "cell_type": "markdown",
      "source": [
        "we can see that the values not exploding. and we got a standard deviation close to 1, as expected. \n",
        "\n",
        "Since without the normalization the standard deviation was sqrt(N)."
      ],
      "metadata": {
        "id": "MrvlqSc2IeTL"
      }
    },
    {
      "cell_type": "code",
      "source": [
        "# 4.\n",
        "x = torch.randn(512)\n",
        "for i in range(100):\n",
        "    a = torch.randn(512, 512)\n",
        "    x = a @ x\n",
        "    # Add a tanh() activation after each layer\n",
        "    x = torch.tanh(x)\n",
        "\n",
        "print(\"mean: \", x.mean())\n",
        "print(\"std: \", x.std())"
      ],
      "metadata": {
        "colab": {
          "base_uri": "https://localhost:8080/"
        },
        "id": "PSZVqQSt7YJh",
        "outputId": "993a4807-b5d9-49f6-d546-ce1b5e4ad05e"
      },
      "execution_count": 5,
      "outputs": [
        {
          "output_type": "stream",
          "name": "stdout",
          "text": [
            "mean:  tensor(0.0075)\n",
            "std:  tensor(0.9748)\n"
          ]
        }
      ]
    },
    {
      "cell_type": "markdown",
      "source": [
        "The standard deviation of activation outputs of the 100th layer is close to 1 and the mean is close to 0.\n",
        "\n",
        "The tanh() activation normalize values input values with normal distribution distribution of [0, sqrt(N)] to [0,1].\n",
        "\n",
        "> Indented block\n",
        "\n",
        "\n"
      ],
      "metadata": {
        "id": "kSXmM9niKhlA"
      }
    },
    {
      "cell_type": "code",
      "source": [
        "# 5.\n",
        "def xavier_init(fan_in, fan_out):\n",
        "    return torch.Tensor(fan_in, fan_out).uniform_(-1, 1) * math.sqrt(6. / (fan_in + fan_out))\n",
        "\n",
        "x = torch.randn(512)\n",
        "for i in range(100):\n",
        "    a = xavier_init(512,512)\n",
        "    x = a @ x\n",
        "    # Add a tanh() activation after each layer\n",
        "    x = torch.tanh(x)\n",
        "\n",
        "print(\"mean: \", x.mean())\n",
        "print(\"std: \", x.std())\n"
      ],
      "metadata": {
        "colab": {
          "base_uri": "https://localhost:8080/"
        },
        "id": "CLtZrh5jKrhL",
        "outputId": "a0c836dd-bac6-4d97-b3a3-1c40492d57cf"
      },
      "execution_count": 6,
      "outputs": [
        {
          "output_type": "stream",
          "name": "stdout",
          "text": [
            "mean:  tensor(0.0006)\n",
            "std:  tensor(0.0718)\n"
          ]
        }
      ]
    },
    {
      "cell_type": "code",
      "source": [
        "# 6.\n",
        "# xavier init with relu activation\n",
        "x = torch.randn(512)\n",
        "for i in range(100):\n",
        "    a = xavier_init(512,512)\n",
        "    x = a @ x\n",
        "    # Add a relu() activation after each layer\n",
        "    x = torch.relu(x)\n",
        "\n",
        "print(\"mean: \", x.mean())\n",
        "print(\"std: \", x.std())"
      ],
      "metadata": {
        "colab": {
          "base_uri": "https://localhost:8080/"
        },
        "id": "_nHjghf2rMbm",
        "outputId": "b4ccb6a8-d78c-424f-a72b-cd5a4e9e28ef"
      },
      "execution_count": 7,
      "outputs": [
        {
          "output_type": "stream",
          "name": "stdout",
          "text": [
            "mean:  tensor(5.4444e-16)\n",
            "std:  tensor(8.2233e-16)\n"
          ]
        }
      ]
    },
    {
      "cell_type": "markdown",
      "source": [
        "activation outputs have almost completely vanished by the 100th layer!"
      ],
      "metadata": {
        "id": "AS_EIUnVN4xJ"
      }
    },
    {
      "cell_type": "code",
      "source": [
        "def kaiming_init(fan_in, fan_out):\n",
        "    return torch.Tensor(fan_in, fan_out).uniform_(-1, 1) * math.sqrt(2) * math.sqrt(3. / fan_in)\n",
        "\n",
        "x = torch.randn(512)\n",
        "for i in range(100):\n",
        "    a = kaiming_init(512, 512)\n",
        "    x = a @ x\n",
        "    # Add a relu() activation after each layer\n",
        "    x = torch.relu(x)\n",
        "\n",
        "print(\"mean: \", x.mean())\n",
        "print(\"std: \", x.std())"
      ],
      "metadata": {
        "colab": {
          "base_uri": "https://localhost:8080/"
        },
        "id": "F_OtwUCuMyci",
        "outputId": "1ed817c1-9c61-47df-f2f1-eb0066294733"
      },
      "execution_count": 8,
      "outputs": [
        {
          "output_type": "stream",
          "name": "stdout",
          "text": [
            "mean:  tensor(0.5638)\n",
            "std:  tensor(0.8295)\n"
          ]
        }
      ]
    },
    {
      "cell_type": "markdown",
      "metadata": {
        "id": "6MbmujgKgjdR"
      },
      "source": [
        "### <img src=\"https://img.icons8.com/color/48/000000/code.png\" style=\"height:50px;display:inline\"> Task 2 - FashionMNIST Deep Classifer\n",
        "---\n",
        "In this task you are going to design and train your first neural network for classification.\n",
        "1. Load the FashionMNIST dataset `torchvision.datasets.FashionMNIST` and display 6 images with their labels from the dataset.\n",
        "2. Design a **MLP** to classify images from the FashionMNIST dataset. **You need to reach at least 85% accuracy on the test set, and 89% for a full grade**.\n",
        "    * You have a free choice of architecture, optimizer, learning scheduler, initialization, regularization and activations.\n",
        "    * In a Markdown block, write down the chosen architectures and all the hyper-parameters.\n",
        "    * **Plot** the loss curves (and any oter statistic you want) as a function of epochs/iterations.\n",
        "    * **Print** the test accuracy.\n",
        "3. Change the initialization of the linear layers and re-train the model. You can pick an initialization of your choosing from : https://pytorch.org/docs/stable/nn.init.html . See example below how to use. **Print** the change in accuracy."
      ]
    },
    {
      "cell_type": "code",
      "metadata": {
        "id": "U3lVtEfPgjdR"
      },
      "source": [
        "def get_fashion_mnist_dataloaders(batch_size=128):\n",
        "    \"\"\"Fashion MNIST dataloader with (32, 32) sized images.\"\"\"\n",
        "    # Resize images\n",
        "    all_transforms = transforms.Compose([\n",
        "        transforms.ToTensor(),\n",
        "        transforms.Normalize((0.5,),(0.5,),)\n",
        "    ])\n",
        "    # Get train and test data\n",
        "    train_data = datasets.FashionMNIST('../fashion_data', train=True, download=True,\n",
        "                                        transform=transforms.ToTensor())\n",
        "    test_data = datasets.FashionMNIST('../fashion_data', train=False,\n",
        "                                        transform=transforms.ToTensor())\n",
        "    ## Preparing for validation set\n",
        "    indices = list(range(len(train_data)))\n",
        "    np.random.shuffle(indices)\n",
        "\n",
        "    ## get 10% of the trainset for validation\n",
        "    split = int(np.floor(0.1 * len(train_data)))\n",
        "    valid_sample = SubsetRandomSampler(indices[:split])\n",
        "    train_sample = SubsetRandomSampler(indices[split:])\n",
        "\n",
        "    # Create dataloaders\n",
        "    train_loader = DataLoader(train_data, sampler=train_sample, batch_size=batch_size)\n",
        "    valid_loader = DataLoader(train_data, sampler=valid_sample, batch_size=batch_size)\n",
        "    #train_loader = DataLoader(train_data, batch_size=batch_size, shuffle=True)\n",
        "    test_loader = DataLoader(test_data, batch_size=batch_size, shuffle=True)\n",
        "\n",
        "\n",
        "    # define classes\n",
        "    classes =    (\"T-shirt/Top\",\n",
        "                  \"Trouser\",\n",
        "                  \"Pullover\",\n",
        "                  \"Dress\",\n",
        "                  \"Coat\", \n",
        "                  \"Sandal\", \n",
        "                  \"Shirt\",\n",
        "                  \"Sneaker\",\n",
        "                  \"Bag\",\n",
        "                  \"Ankle Boot\")\n",
        "    return train_loader, valid_loader, test_loader, classes"
      ],
      "execution_count": 9,
      "outputs": []
    },
    {
      "cell_type": "markdown",
      "source": [
        "**section 1:**"
      ],
      "metadata": {
        "id": "HQxqIFcvfWok"
      }
    },
    {
      "cell_type": "code",
      "source": [
        "# Load FashionMNIST dataset\n",
        "train_loader, valid_loader, test_loader, classes = get_fashion_mnist_dataloaders(batch_size=64)\n",
        "\n",
        "# Display 6 images with their labels\n",
        "data_iter = iter(train_loader)\n",
        "images, labels = data_iter.next()\n",
        "\n",
        "fig = plt.figure(figsize=(5,5))\n",
        "for i in range(6):\n",
        "    ax = fig.add_subplot(2, 3, i+1, xticks=[], yticks=[])\n",
        "    ax.imshow(np.squeeze(images[i]), cmap='gray')\n",
        "    ax.set_title(labels[i].item()) # .item() gets the value contained in a tensor\n",
        "    fig.tight_layout()"
      ],
      "metadata": {
        "colab": {
          "base_uri": "https://localhost:8080/",
          "height": 717,
          "referenced_widgets": [
            "84ead75d901a41cd858b19fe5c7dd036",
            "57974a0749d54334b16215cdbf35cc98",
            "8899b907d59c49b3afb53da238c505f9",
            "82d20ce3156b47c9a92e8cbf367f7d72",
            "4e07786e8ba142e7a1a7b06d12a44738",
            "9878e823384d471a8a611ab8518c612c",
            "e7697e0f2dc94787a8184aa263984682",
            "523fbf66dfad4c6ab91561d4af3d87e1",
            "7d035a7dd1c44a599b745ce9d83c8430",
            "9255bf083d194349ba91299a6baa844f",
            "0cb4de6c59a94674b7effc42e26b9264",
            "06a111890b06478fa61d409ebf38e6dc",
            "760fa7c959ac41999b3c68129c3234a7",
            "39db8a223c174812adf7bec9bc460b5c",
            "99f71236ee2040109ee7e966afca079e",
            "04917912890f4e04bf9c07303fa4c5df",
            "bbf4f927da3e4a8b9ad680704205ba62",
            "45c6e1b678714501a5ea4a7beeec1c71",
            "3804d477602a4e43ba01000ce866b825",
            "f9dd25e6271247498a01c1db8fdf2cd2",
            "e275655fbd714d67b7f77d59e8a64e40",
            "d0bc6c2ec9f34bf48280d0164ddcd3ab",
            "714b71036b0e42808859109b52d1a082",
            "8bc02f2c65894bee91685e76d667e8ea",
            "cce3eefe19f0485ca3f97273527cde90",
            "53215739d1b046aca80d37735f60e62d",
            "f1f42401b4704a73918e46e56de8a9de",
            "3fe6c4c860ee4712a5e4a12b44106efc",
            "dd7253e8936f402caa36130a497620b0",
            "1b50b4b71c8c48cbbcb9fd8771a6ac8f",
            "aad82bf5360647c3ade3376de2235d70",
            "18ecdac62c2241ac882b6b70d5afdc31",
            "6d828be624d84b96a919798f17274156",
            "4de3a4829add415093c35bc5f0a21392",
            "ef97afbbc2954995934d015a603acb19",
            "ee996ccafad6458aa8bc6f3f47c33a2c",
            "42e9325dbf9349818cf00da7348dbcd7",
            "ee0448c37d2442cdbc5721886ca13e1d",
            "973a0825a9e9442188afb8c5135603df",
            "4afca44450104a07bfffeb3cd033bb62",
            "44b76844152f4acd9775a589a29ef477",
            "a56e06dfc949482c87222523fd374afd",
            "6dd9b877fcc04f60aebd4679e8294077",
            "f0ac2af1c6ba4e5cbe19815fb50ff722"
          ]
        },
        "id": "NYCKQFqAfND1",
        "outputId": "17ee9170-dbe1-41ac-bfc0-ae5cefdad954"
      },
      "execution_count": 10,
      "outputs": [
        {
          "output_type": "stream",
          "name": "stdout",
          "text": [
            "Downloading http://fashion-mnist.s3-website.eu-central-1.amazonaws.com/train-images-idx3-ubyte.gz\n",
            "Downloading http://fashion-mnist.s3-website.eu-central-1.amazonaws.com/train-images-idx3-ubyte.gz to ../fashion_data/FashionMNIST/raw/train-images-idx3-ubyte.gz\n"
          ]
        },
        {
          "output_type": "display_data",
          "data": {
            "application/vnd.jupyter.widget-view+json": {
              "model_id": "84ead75d901a41cd858b19fe5c7dd036",
              "version_minor": 0,
              "version_major": 2
            },
            "text/plain": [
              "  0%|          | 0/26421880 [00:00<?, ?it/s]"
            ]
          },
          "metadata": {}
        },
        {
          "output_type": "stream",
          "name": "stdout",
          "text": [
            "Extracting ../fashion_data/FashionMNIST/raw/train-images-idx3-ubyte.gz to ../fashion_data/FashionMNIST/raw\n",
            "\n",
            "Downloading http://fashion-mnist.s3-website.eu-central-1.amazonaws.com/train-labels-idx1-ubyte.gz\n",
            "Downloading http://fashion-mnist.s3-website.eu-central-1.amazonaws.com/train-labels-idx1-ubyte.gz to ../fashion_data/FashionMNIST/raw/train-labels-idx1-ubyte.gz\n"
          ]
        },
        {
          "output_type": "display_data",
          "data": {
            "application/vnd.jupyter.widget-view+json": {
              "model_id": "06a111890b06478fa61d409ebf38e6dc",
              "version_minor": 0,
              "version_major": 2
            },
            "text/plain": [
              "  0%|          | 0/29515 [00:00<?, ?it/s]"
            ]
          },
          "metadata": {}
        },
        {
          "output_type": "stream",
          "name": "stdout",
          "text": [
            "Extracting ../fashion_data/FashionMNIST/raw/train-labels-idx1-ubyte.gz to ../fashion_data/FashionMNIST/raw\n",
            "\n",
            "Downloading http://fashion-mnist.s3-website.eu-central-1.amazonaws.com/t10k-images-idx3-ubyte.gz\n",
            "Downloading http://fashion-mnist.s3-website.eu-central-1.amazonaws.com/t10k-images-idx3-ubyte.gz to ../fashion_data/FashionMNIST/raw/t10k-images-idx3-ubyte.gz\n"
          ]
        },
        {
          "output_type": "display_data",
          "data": {
            "application/vnd.jupyter.widget-view+json": {
              "model_id": "714b71036b0e42808859109b52d1a082",
              "version_minor": 0,
              "version_major": 2
            },
            "text/plain": [
              "  0%|          | 0/4422102 [00:00<?, ?it/s]"
            ]
          },
          "metadata": {}
        },
        {
          "output_type": "stream",
          "name": "stdout",
          "text": [
            "Extracting ../fashion_data/FashionMNIST/raw/t10k-images-idx3-ubyte.gz to ../fashion_data/FashionMNIST/raw\n",
            "\n",
            "Downloading http://fashion-mnist.s3-website.eu-central-1.amazonaws.com/t10k-labels-idx1-ubyte.gz\n",
            "Downloading http://fashion-mnist.s3-website.eu-central-1.amazonaws.com/t10k-labels-idx1-ubyte.gz to ../fashion_data/FashionMNIST/raw/t10k-labels-idx1-ubyte.gz\n"
          ]
        },
        {
          "output_type": "display_data",
          "data": {
            "application/vnd.jupyter.widget-view+json": {
              "model_id": "4de3a4829add415093c35bc5f0a21392",
              "version_minor": 0,
              "version_major": 2
            },
            "text/plain": [
              "  0%|          | 0/5148 [00:00<?, ?it/s]"
            ]
          },
          "metadata": {}
        },
        {
          "output_type": "stream",
          "name": "stdout",
          "text": [
            "Extracting ../fashion_data/FashionMNIST/raw/t10k-labels-idx1-ubyte.gz to ../fashion_data/FashionMNIST/raw\n",
            "\n"
          ]
        },
        {
          "output_type": "display_data",
          "data": {
            "image/png": "[encoded data removed]",
            "text/plain": [
              "<Figure size 360x360 with 6 Axes>"
            ]
          },
          "metadata": {}
        }
      ]
    },
    {
      "cell_type": "code",
      "source": [
        "class MyModel(nn.Module):\n",
        "    def __init__(self):\n",
        "        super(MyModel, self).__init__()\n",
        "        \n",
        "        # model definitions/blocks\n",
        "        self.fc_layers = nn.Sequential(\n",
        "            nn.Linear(784,784),\n",
        "            nn.ReLU(),\n",
        "            nn.BatchNorm1d(784),\n",
        "            nn.Linear(784,256),\n",
        "            nn.ReLU(),\n",
        "            nn.BatchNorm1d(256),\n",
        "            nn.Linear(256,128),\n",
        "            nn.ReLU(),\n",
        "            nn.BatchNorm1d(128),\n",
        "            nn.Linear(128,64),\n",
        "            nn.ReLU(),\n",
        "            nn.BatchNorm1d(64),\n",
        "            nn.Linear(64,10),\n",
        "            )\n",
        "        \n",
        "        self.output_layer = nn.LogSoftmax(dim = 1)\n",
        "\n",
        "    def forward(self, x):\n",
        "        # flatten\n",
        "        x = x.view(x.size(0), -1)\n",
        "        \n",
        "        return self.output_layer(self.fc_layers(x))"
      ],
      "metadata": {
        "id": "f358lbKyiOZZ"
      },
      "execution_count": 11,
      "outputs": []
    },
    {
      "cell_type": "code",
      "source": [
        "### Helper Functions ###\n",
        "# function to calcualte accuracy of the model\n",
        "def calculate_accuracy(model, dataloader, device, criterion):\n",
        "    model.eval() # put in evaluation mode\n",
        "    total_correct = 0\n",
        "    total_images = 0\n",
        "    running_loss = 0.0\n",
        "    confusion_matrix = np.zeros([10,10], int)\n",
        "    with torch.no_grad():\n",
        "        for data in dataloader:\n",
        "            images, labels = data\n",
        "            images = images.to(device)\n",
        "            labels = labels.to(device)\n",
        "            outputs = model(images)\n",
        "            loss = criterion(outputs, labels) # calculate the loss\n",
        "            running_loss += loss.data.item()\n",
        "            _, predicted = torch.max(outputs.data, 1)\n",
        "            total_images += labels.size(0)\n",
        "            total_correct += (predicted == labels).sum().item()\n",
        "            for i, l in enumerate(labels):\n",
        "                confusion_matrix[l.item(), predicted[i].item()] += 1\n",
        "\n",
        "    # Normalizing the loss by the total number of train batches\n",
        "    running_loss /= len(dataloader)\n",
        "    model_accuracy = total_correct / total_images * 100\n",
        "    return model_accuracy, confusion_matrix, running_loss\n",
        "\n",
        "# use a different initialization for the model\n",
        "def weights_init(m):\n",
        "    classname = m.__class__.__name__\n",
        "    if classname.find('Linear') != -1:\n",
        "        #nn.init.xavier_normal_(m.weight, gain=1.0)\n",
        "        #nn.init.normal_(m.weight, 0, 0.005)\n",
        "        nn.init.normal_(m.bias, 0, 0.005)\n",
        "        nn.init.kaiming_normal_(m.weight, mode='fan_out', nonlinearity='relu')\n",
        "        #nn.init.kaiming_normal_(m.bias, mode='fan_out', nonlinearity='relu')\n",
        "        #nn.init.kaiming_normal_(m.weight, mode='fan_in', nonlinearity='leaky_relu', a=math.sqrt(5))"
      ],
      "metadata": {
        "id": "t4o-48nzy_GS"
      },
      "execution_count": 12,
      "outputs": []
    },
    {
      "cell_type": "code",
      "source": [
        "def compile_model(model, init_weights=False):\n",
        "    # hyper-parameters\n",
        "    batch_size = 64\n",
        "    learning_rate = 2e-4\n",
        "    epochs = 25\n",
        "    val_loss_stop = 0.2\n",
        "\n",
        "    # Load FashionMNIST dataset\n",
        "    train_loader, valid_loader, test_loader, classes = get_fashion_mnist_dataloaders(batch_size)\n",
        "\n",
        "    # device - cpu or gpu?\n",
        "    device = torch.device(\"cuda:0\" if torch.cuda.is_available() else \"cpu\")\n",
        "\n",
        "    # loss criterion\n",
        "    criterion = nn.CrossEntropyLoss()\n",
        "\n",
        "    # build our model and send it to the device\n",
        "    model = model().to(device)\n",
        "\n",
        "    # optimizer - SGD, Adam, RMSProp...\n",
        "    optimizer = torch.optim.Adam(model.parameters(), lr=learning_rate)\n",
        "\n",
        "    # weights initialization\n",
        "    if (init_weights == True):\n",
        "        model.apply(weights_init)\n",
        "\n",
        "    # training loop\n",
        "    train_losses = []\n",
        "    valid_losses = []\n",
        "    for epoch in range(1, epochs + 1):\n",
        "        model.train() # put in training mode\n",
        "        running_loss = 0.0\n",
        "        total_correct = 0\n",
        "        total_images = 0\n",
        "        epoch_time = time.time()\n",
        "        for i, data in enumerate(train_loader, 0):\n",
        "            # get the inputs\n",
        "            inputs, labels = data\n",
        "            # send them to device\n",
        "            inputs = inputs.to(device)\n",
        "            labels = labels.to(device)\n",
        "\n",
        "            # forward + backward + optimize\n",
        "            outputs = model(inputs) # forward pass\n",
        "            loss = criterion(outputs, labels) # calculate the loss\n",
        "\n",
        "            # always the same 3 steps\n",
        "            optimizer.zero_grad() # zero the parameter gradients\n",
        "            loss.backward() # backpropagation\n",
        "            optimizer.step() # update parameters\n",
        "\n",
        "            # calc accuracy\n",
        "            _, predicted = torch.max(outputs.data, 1)\n",
        "            total_images += labels.size(0)\n",
        "            total_correct += (predicted == labels).sum().item()\n",
        "\n",
        "            # print statistics\n",
        "            running_loss += loss.data.item()\n",
        "\n",
        "        # Normalizing the loss by the total number of train batches\n",
        "        running_loss /= len(train_loader)\n",
        "        train_losses.append(running_loss)\n",
        "\n",
        "        # Calculate training/test set accuracy of the existing model\n",
        "        train_accuracy = total_correct / total_images * 100\n",
        "        valid_accuracy, _, valid_loss = calculate_accuracy(model, valid_loader, device, criterion)\n",
        "        valid_losses.append(valid_loss)\n",
        "\n",
        "\n",
        "        log = \"Epoch: {} | Train Loss: {:.4f} | Training accuracy: {:.3f}% | Validation Loss: {:.3f} | Validation accuracy: {:.3f}% | \".format(epoch\n",
        "        , running_loss, train_accuracy, valid_loss, valid_accuracy)\n",
        "        epoch_time = time.time() - epoch_time\n",
        "        log += \"Epoch Time: {:.2f} secs\".format(epoch_time)\n",
        "        print(log)\n",
        "\n",
        "        # early stopping\n",
        "        if(valid_loss < val_loss_stop):\n",
        "            print(\"early stopping\")\n",
        "            break\n",
        "\n",
        "    print('==> Finished Training ...')\n",
        "    \n",
        "    # calculate accuracy and confusion matrix\n",
        "    test_accuracy, confusion_matrix, _ = calculate_accuracy(model, test_loader, device, criterion)\n",
        "    print(\"test accuracy: {:.3f}%\".format(test_accuracy))\n",
        "\n",
        "    # plot confusion matrix\n",
        "    fig, ax = plt.subplots(1,1,figsize=(8,6))\n",
        "    ax.matshow(confusion_matrix, aspect='auto', vmin=0, vmax=1000, cmap=plt.get_cmap('Blues'))\n",
        "    plt.ylabel('Actual Category')\n",
        "    plt.yticks(range(10), classes)\n",
        "    plt.xlabel('Predicted Category')\n",
        "    plt.xticks(range(10), classes)\n",
        "    plt.show()\n",
        "\n",
        "    # print loss curves\n",
        "    plt.plot(train_losses, label='Train Loss')\n",
        "    plt.plot(valid_losses, label='Validation Loss')\n",
        "    plt.legend()\n",
        "    plt.xlabel('Epochs')\n",
        "    plt.ylabel('Loss')\n",
        "    plt.title('Loss')"
      ],
      "metadata": {
        "id": "qriKUd0FByyO"
      },
      "execution_count": 13,
      "outputs": []
    },
    {
      "cell_type": "code",
      "source": [
        "compile_model(model=MyModel, init_weights=False)"
      ],
      "metadata": {
        "colab": {
          "base_uri": "https://localhost:8080/",
          "height": 1000
        },
        "id": "QLrLYeRnFMmf",
        "outputId": "384804b3-bc9d-42b6-bcac-2a2f89a2e2b2"
      },
      "execution_count": 14,
      "outputs": [
        {
          "output_type": "stream",
          "name": "stdout",
          "text": [
            "Epoch: 1 | Train Loss: 0.5214 | Training accuracy: 83.624% | Validation Loss: 0.404 | Validation accuracy: 85.717% | Epoch Time: 11.85 secs\n",
            "Epoch: 2 | Train Loss: 0.3630 | Training accuracy: 86.950% | Validation Loss: 0.368 | Validation accuracy: 87.133% | Epoch Time: 11.80 secs\n",
            "Epoch: 3 | Train Loss: 0.3246 | Training accuracy: 88.254% | Validation Loss: 0.390 | Validation accuracy: 85.550% | Epoch Time: 11.72 secs\n",
            "Epoch: 4 | Train Loss: 0.3003 | Training accuracy: 88.900% | Validation Loss: 0.332 | Validation accuracy: 88.167% | Epoch Time: 11.58 secs\n",
            "Epoch: 5 | Train Loss: 0.2845 | Training accuracy: 89.507% | Validation Loss: 0.348 | Validation accuracy: 87.183% | Epoch Time: 11.77 secs\n",
            "Epoch: 6 | Train Loss: 0.2694 | Training accuracy: 90.026% | Validation Loss: 0.323 | Validation accuracy: 88.433% | Epoch Time: 11.59 secs\n",
            "Epoch: 7 | Train Loss: 0.2583 | Training accuracy: 90.424% | Validation Loss: 0.347 | Validation accuracy: 87.733% | Epoch Time: 11.87 secs\n",
            "Epoch: 8 | Train Loss: 0.2438 | Training accuracy: 90.846% | Validation Loss: 0.331 | Validation accuracy: 88.183% | Epoch Time: 11.68 secs\n",
            "Epoch: 9 | Train Loss: 0.2385 | Training accuracy: 91.181% | Validation Loss: 0.330 | Validation accuracy: 88.483% | Epoch Time: 11.56 secs\n",
            "Epoch: 10 | Train Loss: 0.2262 | Training accuracy: 91.602% | Validation Loss: 0.332 | Validation accuracy: 88.467% | Epoch Time: 11.63 secs\n",
            "Epoch: 11 | Train Loss: 0.2160 | Training accuracy: 91.944% | Validation Loss: 0.322 | Validation accuracy: 88.817% | Epoch Time: 11.77 secs\n",
            "Epoch: 12 | Train Loss: 0.2056 | Training accuracy: 92.270% | Validation Loss: 0.312 | Validation accuracy: 88.850% | Epoch Time: 11.68 secs\n",
            "Epoch: 13 | Train Loss: 0.2017 | Training accuracy: 92.311% | Validation Loss: 0.344 | Validation accuracy: 88.200% | Epoch Time: 11.64 secs\n",
            "Epoch: 14 | Train Loss: 0.1939 | Training accuracy: 92.639% | Validation Loss: 0.334 | Validation accuracy: 88.383% | Epoch Time: 11.63 secs\n",
            "Epoch: 15 | Train Loss: 0.1900 | Training accuracy: 92.828% | Validation Loss: 0.328 | Validation accuracy: 88.817% | Epoch Time: 11.53 secs\n",
            "Epoch: 16 | Train Loss: 0.1841 | Training accuracy: 93.009% | Validation Loss: 0.337 | Validation accuracy: 88.600% | Epoch Time: 11.67 secs\n",
            "Epoch: 17 | Train Loss: 0.1788 | Training accuracy: 93.183% | Validation Loss: 0.348 | Validation accuracy: 88.500% | Epoch Time: 11.53 secs\n",
            "Epoch: 18 | Train Loss: 0.1715 | Training accuracy: 93.535% | Validation Loss: 0.338 | Validation accuracy: 88.900% | Epoch Time: 11.78 secs\n",
            "Epoch: 19 | Train Loss: 0.1642 | Training accuracy: 93.746% | Validation Loss: 0.326 | Validation accuracy: 89.317% | Epoch Time: 11.89 secs\n",
            "Epoch: 20 | Train Loss: 0.1624 | Training accuracy: 93.861% | Validation Loss: 0.343 | Validation accuracy: 88.600% | Epoch Time: 11.88 secs\n",
            "Epoch: 21 | Train Loss: 0.1576 | Training accuracy: 94.004% | Validation Loss: 0.371 | Validation accuracy: 87.917% | Epoch Time: 11.80 secs\n",
            "Epoch: 22 | Train Loss: 0.1530 | Training accuracy: 94.189% | Validation Loss: 0.341 | Validation accuracy: 88.700% | Epoch Time: 11.84 secs\n",
            "Epoch: 23 | Train Loss: 0.1460 | Training accuracy: 94.426% | Validation Loss: 0.341 | Validation accuracy: 88.850% | Epoch Time: 11.86 secs\n",
            "Epoch: 24 | Train Loss: 0.1386 | Training accuracy: 94.802% | Validation Loss: 0.338 | Validation accuracy: 89.483% | Epoch Time: 11.77 secs\n",
            "Epoch: 25 | Train Loss: 0.1357 | Training accuracy: 94.833% | Validation Loss: 0.365 | Validation accuracy: 88.733% | Epoch Time: 11.88 secs\n",
            "==> Finished Training ...\n",
            "test accuracy: 89.150%\n"
          ]
        },
        {
          "output_type": "display_data",
          "data": {
            "image/png": "[encoded data removed]",
            "text/plain": [
              "<Figure size 576x432 with 1 Axes>"
            ]
          },
          "metadata": {
            "needs_background": "light"
          }
        },
        {
          "output_type": "display_data",
          "data": {
            "image/png": "[encoded data removed]",
            "text/plain": [
              "<Figure size 432x288 with 1 Axes>"
            ]
          },
          "metadata": {
            "needs_background": "light"
          }
        }
      ]
    },
    {
      "cell_type": "markdown",
      "source": [
        "**Section 3:**"
      ],
      "metadata": {
        "id": "Y_imNZWfhCA0"
      }
    },
    {
      "cell_type": "code",
      "source": [
        "compile_model(model=MyModel, init_weights=True)"
      ],
      "metadata": {
        "id": "IdDT8h1WxDP6",
        "colab": {
          "base_uri": "https://localhost:8080/",
          "height": 1000
        },
        "outputId": "a13f1814-8c3f-4fcd-92c6-eaab9b08731c"
      },
      "execution_count": 15,
      "outputs": [
        {
          "output_type": "stream",
          "name": "stdout",
          "text": [
            "Epoch: 1 | Train Loss: 0.6750 | Training accuracy: 79.602% | Validation Loss: 0.451 | Validation accuracy: 84.267% | Epoch Time: 11.82 secs\n",
            "Epoch: 2 | Train Loss: 0.3980 | Training accuracy: 85.819% | Validation Loss: 0.395 | Validation accuracy: 86.317% | Epoch Time: 11.85 secs\n",
            "Epoch: 3 | Train Loss: 0.3462 | Training accuracy: 87.428% | Validation Loss: 0.367 | Validation accuracy: 86.867% | Epoch Time: 11.92 secs\n",
            "Epoch: 4 | Train Loss: 0.3098 | Training accuracy: 88.726% | Validation Loss: 0.356 | Validation accuracy: 87.200% | Epoch Time: 11.83 secs\n",
            "Epoch: 5 | Train Loss: 0.2905 | Training accuracy: 89.346% | Validation Loss: 0.348 | Validation accuracy: 88.317% | Epoch Time: 11.88 secs\n",
            "Epoch: 6 | Train Loss: 0.2675 | Training accuracy: 90.185% | Validation Loss: 0.339 | Validation accuracy: 87.900% | Epoch Time: 11.91 secs\n",
            "Epoch: 7 | Train Loss: 0.2560 | Training accuracy: 90.520% | Validation Loss: 0.339 | Validation accuracy: 87.917% | Epoch Time: 11.80 secs\n",
            "Epoch: 8 | Train Loss: 0.2426 | Training accuracy: 90.972% | Validation Loss: 0.339 | Validation accuracy: 87.817% | Epoch Time: 12.03 secs\n",
            "Epoch: 9 | Train Loss: 0.2334 | Training accuracy: 91.296% | Validation Loss: 0.340 | Validation accuracy: 88.167% | Epoch Time: 11.93 secs\n",
            "Epoch: 10 | Train Loss: 0.2181 | Training accuracy: 91.857% | Validation Loss: 0.338 | Validation accuracy: 87.917% | Epoch Time: 11.74 secs\n",
            "Epoch: 11 | Train Loss: 0.2105 | Training accuracy: 92.098% | Validation Loss: 0.341 | Validation accuracy: 87.933% | Epoch Time: 11.71 secs\n",
            "Epoch: 12 | Train Loss: 0.2026 | Training accuracy: 92.415% | Validation Loss: 0.339 | Validation accuracy: 88.333% | Epoch Time: 11.90 secs\n",
            "Epoch: 13 | Train Loss: 0.1905 | Training accuracy: 92.867% | Validation Loss: 0.354 | Validation accuracy: 88.083% | Epoch Time: 11.73 secs\n",
            "Epoch: 14 | Train Loss: 0.1849 | Training accuracy: 93.039% | Validation Loss: 0.352 | Validation accuracy: 88.000% | Epoch Time: 11.95 secs\n",
            "Epoch: 15 | Train Loss: 0.1776 | Training accuracy: 93.304% | Validation Loss: 0.334 | Validation accuracy: 89.233% | Epoch Time: 12.11 secs\n",
            "Epoch: 16 | Train Loss: 0.1713 | Training accuracy: 93.591% | Validation Loss: 0.366 | Validation accuracy: 88.167% | Epoch Time: 12.12 secs\n",
            "Epoch: 17 | Train Loss: 0.1648 | Training accuracy: 93.844% | Validation Loss: 0.347 | Validation accuracy: 89.183% | Epoch Time: 12.27 secs\n",
            "Epoch: 18 | Train Loss: 0.1554 | Training accuracy: 94.157% | Validation Loss: 0.386 | Validation accuracy: 88.517% | Epoch Time: 12.02 secs\n",
            "Epoch: 19 | Train Loss: 0.1537 | Training accuracy: 94.344% | Validation Loss: 0.371 | Validation accuracy: 88.533% | Epoch Time: 12.22 secs\n",
            "Epoch: 20 | Train Loss: 0.1494 | Training accuracy: 94.407% | Validation Loss: 0.368 | Validation accuracy: 88.700% | Epoch Time: 11.76 secs\n",
            "Epoch: 21 | Train Loss: 0.1387 | Training accuracy: 94.843% | Validation Loss: 0.360 | Validation accuracy: 88.950% | Epoch Time: 11.76 secs\n",
            "Epoch: 22 | Train Loss: 0.1321 | Training accuracy: 95.050% | Validation Loss: 0.377 | Validation accuracy: 88.367% | Epoch Time: 11.87 secs\n",
            "Epoch: 23 | Train Loss: 0.1300 | Training accuracy: 95.228% | Validation Loss: 0.373 | Validation accuracy: 88.317% | Epoch Time: 11.73 secs\n",
            "Epoch: 24 | Train Loss: 0.1260 | Training accuracy: 95.272% | Validation Loss: 0.380 | Validation accuracy: 88.867% | Epoch Time: 11.76 secs\n",
            "Epoch: 25 | Train Loss: 0.1221 | Training accuracy: 95.478% | Validation Loss: 0.397 | Validation accuracy: 88.183% | Epoch Time: 11.76 secs\n",
            "==> Finished Training ...\n",
            "test accuracy: 88.060%\n"
          ]
        },
        {
          "output_type": "display_data",
          "data": {
            "image/png": "[encoded data removed]",
            "text/plain": [
              "<Figure size 576x432 with 1 Axes>"
            ]
          },
          "metadata": {
            "needs_background": "light"
          }
        },
        {
          "output_type": "display_data",
          "data": {
            "image/png": "[encoded data removed]",
            "text/plain": [
              "<Figure size 432x288 with 1 Axes>"
            ]
          },
          "metadata": {
            "needs_background": "light"
          }
        }
      ]
    },
    {
      "cell_type": "markdown",
      "metadata": {
        "id": "sngkNo3ogjdS"
      },
      "source": [
        "### <img src=\"https://img.icons8.com/color/48/000000/code.png\" style=\"height:50px;display:inline\"> Task 3 - Design a CNN\n",
        "---\n",
        "In this task you are going to design a deep convolutional neural network to classify house number digits from the **The Street View House Numbers (SVHN)** Dataset. \n",
        "\n",
        "SVHN is a real-world image dataset for developing machine learning and object recognition algorithms with minimal requirement on data preprocessing and formatting. It can be seen as similar in flavor to MNIST (e.g., the images are of small cropped digits), but incorporates an order of magnitude more labeled data (over 600,000 digit images) and comes from a significantly harder, unsolved, real world problem (recognizing digits and numbers in natural scene images). SVHN is obtained from house numbers in Google Street View images.\n",
        "\n",
        "* 10 classes, 1 for each digit. Digit '0' has label 0, '1' has label 1,...\n",
        "* 73257 digits for training, 26032 digits for testing, and 531131 additional, somewhat less difficult samples, to use as extra training data.\n",
        "\n",
        "<img src=\"http://ufldl.stanford.edu/housenumbers/32x32eg.png\" style=\"height:250px\">\n",
        "\n",
        "1. Load the SVHN dataset with PyTorch using `torchvision.datasets.SVHN(root, split='train', transform=None, target_transform=None, download=True)`, you can read more here: https://pytorch.org/docs/stable/torchvision/datasets.html#svhn. Display 5 images from the train set.\n",
        "2. Design a Convolutional Neural Network (CNN) to classify digits from the images.\n",
        "    * Describe the chosen architecture, how many layers? What activations did you choose? What are the filter sizes? Did you use fully-connected layers (if you did, explain their sizes)?\n",
        "    * What is the input dimension? What is the output dimension?\n",
        "    * Calculate the number of parameters (weights) in the network. **Print** this number.\n",
        "3. Train the classifier (preferably on a GPU - use Colab for this part if you don't have a GPU).\n",
        "    * Describe the the hyper-parameters of the model (batch size, epochs, learning rate....). How did you tune your model? Did you use a validation set to tune the model?\n",
        "    * What is the final accuracy on the test set? **Print** it.\n",
        "        * You need to reach at least 86% accuracy in this section, and 90% for a full grade.\n",
        "    * **Plot** the loss curves (and any other statistic you want) as a function of epochs/iterations.\n",
        "4. For the trained classifier, what is the accuracy on the test set when each test image is added a small noise $a=(0.05, 0.01, 0.005)$: $$ \\text{image} + a \\times \\mathcal{N}(0, 1) $$. **Print** the result for each value of $a$.\n",
        "5. Retrain the classifier, but this time use data augementation of your choosing. Briefly explain what augmentation you chose and how it works. Did the test accuracy improve? **Print** the result.\n",
        "    * You can use transformations available in `torchvision.transforms` as shown in the tutorial.\n",
        "    * You are welcome to use <a href=\"https://kornia.github.io/\">`kornia`</a> for the augmentations.\n",
        "    * **Plot** the loss curves (and any other statistic you want) as a function of epochs/iterations."
      ]
    },
    {
      "cell_type": "code",
      "metadata": {
        "id": "1xHckYwqgjdS"
      },
      "source": [
        "def get_SVHN_dataloaders(batch_size=128, transform_train=transforms.ToTensor(), transform_test=transforms.ToTensor()):\n",
        "    # Get train and test data\n",
        "    train_data = datasets.SVHN(root='datasets/SVHN/train/', split='train', \n",
        "                               transform=transform_train, target_transform=None, \n",
        "                               download=True)\n",
        "    test_data = datasets.SVHN(root='datasets/SVHN/test/', split='test', \n",
        "                              transform=transform_test, target_transform=None, \n",
        "                              download=True)\n",
        "    # Preparing for validation set\n",
        "    indices = list(range(len(train_data)))\n",
        "    np.random.shuffle(indices)\n",
        "\n",
        "    # get 10% of the trainset for validation\n",
        "    split = int(np.floor(0.1 * len(train_data)))\n",
        "    valid_sample = SubsetRandomSampler(indices[:split])\n",
        "    train_sample = SubsetRandomSampler(indices[split:])\n",
        "\n",
        "    # Create dataloaders\n",
        "    train_loader = DataLoader(train_data, sampler=train_sample, batch_size=batch_size)\n",
        "    valid_loader = DataLoader(train_data, sampler=valid_sample, batch_size=batch_size)\n",
        "    test_loader = DataLoader(test_data, batch_size=batch_size, shuffle=True)\n",
        "    return train_loader, valid_loader, test_loader "
      ],
      "execution_count": 16,
      "outputs": []
    },
    {
      "cell_type": "code",
      "source": [
        "# 1. Load SVHN dataset\n",
        "train_loader_tmp, _, _ = get_SVHN_dataloaders()\n",
        "\n",
        "# Display 5 images with their labels\n",
        "data_iter = iter(train_loader_tmp)\n",
        "images, labels = data_iter.next()\n",
        "\n",
        "fig = plt.figure(figsize=(7,5))\n",
        "for i in range(5):\n",
        "    ax = fig.add_subplot(1, 5, i+1, xticks=[], yticks=[])\n",
        "    ax.imshow(images[i].permute((1, 2, 0)))\n",
        "    ax.set_title(labels[i].item()) # .item() gets the value contained in a tensor\n",
        "    fig.tight_layout()"
      ],
      "metadata": {
        "colab": {
          "base_uri": "https://localhost:8080/",
          "height": 235,
          "referenced_widgets": [
            "132102b1318b467781ef6f07b9f757f4",
            "dc15255c08ef4022ab160e7cbe4d26c9",
            "c0a230081a2b471a8fd658de616a2c90",
            "c6a0df94c7344b16af811cd0285f1e3c",
            "7ec4e33cab8b45e987370fa238120679",
            "56080e26f0014f259eddc26f478835ce",
            "fbfde9259ca94f8da946a6466f8c4bf0",
            "bbc9dde97657462bbbc423ce4e05adfc",
            "9b9ea40d0f7340c4923dac2c52fcc845",
            "6e5def539ad047d49ad9404d3b74acb1",
            "60a3f128dbff4ca7a8a61c2f6ba760f6",
            "172e2a0006e74ec9b877f64e666c3678",
            "3e31a1a0bd8a4a699cb210d867e55106",
            "e8244257bd3847a198c9ce8575ba3a33",
            "f7f9aa56802d471fb6b6bb94364e2229",
            "a45b41a9e4e44ee2b01014e2be4ab96b",
            "1ee65e9187134749940457e457c8b86f",
            "0314dcff9788445380d3e0a452f102b2",
            "93d16d5234a841e9af1d8d2c850fc0ff",
            "9ecd86b323e14ca9908e514b38cca856",
            "c1bb323a68144045939be6192654b4da",
            "ab7ace3555b94208878a68c728569a72"
          ]
        },
        "id": "88Q7kjNdG036",
        "outputId": "6a504bb9-7fae-4d80-9056-97fa25d38b08"
      },
      "execution_count": 17,
      "outputs": [
        {
          "output_type": "stream",
          "name": "stdout",
          "text": [
            "Downloading http://ufldl.stanford.edu/housenumbers/train_32x32.mat to datasets/SVHN/train/train_32x32.mat\n"
          ]
        },
        {
          "output_type": "display_data",
          "data": {
            "application/vnd.jupyter.widget-view+json": {
              "model_id": "132102b1318b467781ef6f07b9f757f4",
              "version_minor": 0,
              "version_major": 2
            },
            "text/plain": [
              "  0%|          | 0/182040794 [00:00<?, ?it/s]"
            ]
          },
          "metadata": {}
        },
        {
          "output_type": "stream",
          "name": "stdout",
          "text": [
            "Downloading http://ufldl.stanford.edu/housenumbers/test_32x32.mat to datasets/SVHN/test/test_32x32.mat\n"
          ]
        },
        {
          "output_type": "display_data",
          "data": {
            "application/vnd.jupyter.widget-view+json": {
              "model_id": "172e2a0006e74ec9b877f64e666c3678",
              "version_minor": 0,
              "version_major": 2
            },
            "text/plain": [
              "  0%|          | 0/64275384 [00:00<?, ?it/s]"
            ]
          },
          "metadata": {}
        },
        {
          "output_type": "display_data",
          "data": {
            "image/png": "[encoded data removed]",
            "text/plain": [
              "<Figure size 504x360 with 5 Axes>"
            ]
          },
          "metadata": {}
        }
      ]
    },
    {
      "cell_type": "markdown",
      "source": [
        "**Section 2:**\n"
      ],
      "metadata": {
        "id": "R5J6vQ0pqQNH"
      }
    },
    {
      "cell_type": "code",
      "source": [
        "# 2. Design a Convolutional Neural Network (CNN) to classify digits from the images\n",
        "class SVHNCNN(nn.Module):\n",
        "    \"\"\"CNN for the CIFAR-10 Datset\"\"\"\n",
        "    def __init__(self):\n",
        "        \"\"\"CNN Builder.\"\"\"\n",
        "        super(SVHNCNN, self).__init__()\n",
        "        \n",
        "        self.conv_layer = nn.Sequential(\n",
        "            # Conv Layer block 1\n",
        "            nn.Conv2d(in_channels=3, out_channels=32, kernel_size=3, padding=1),\n",
        "            nn.BatchNorm2d(32),\n",
        "            nn.ReLU(inplace=True),\n",
        "            nn.Conv2d(in_channels=32, out_channels=64, kernel_size=3, padding=1),\n",
        "            nn.ReLU(inplace=True),\n",
        "            nn.MaxPool2d(kernel_size=2, stride=2),\n",
        "            # Conv Layer block 2\n",
        "            nn.Conv2d(in_channels=64, out_channels=128, kernel_size=3, padding=1),\n",
        "            nn.BatchNorm2d(128),\n",
        "            nn.ReLU(inplace=True),\n",
        "            nn.Conv2d(in_channels=128, out_channels=128, kernel_size=3, padding=1),\n",
        "            nn.ReLU(inplace=True),\n",
        "            nn.MaxPool2d(kernel_size=2, stride=2),\n",
        "            nn.Dropout2d(p=0.05),\n",
        "            # Conv Layer block 3\n",
        "            nn.Conv2d(in_channels=128, out_channels=256, kernel_size=3, padding=1),\n",
        "            nn.BatchNorm2d(256),\n",
        "            nn.ReLU(inplace=True),\n",
        "            nn.Conv2d(in_channels=256, out_channels=256, kernel_size=3, padding=1),\n",
        "            nn.ReLU(inplace=True),\n",
        "            nn.MaxPool2d(kernel_size=2, stride=2),\n",
        "        )\n",
        "\n",
        "        self.fc_layer = nn.Sequential(\n",
        "            nn.Dropout(p=0.1),\n",
        "            nn.Linear(4096, 1024),\n",
        "            nn.ReLU(inplace=True),\n",
        "            nn.Linear(1024, 512),\n",
        "            nn.ReLU(inplace=True),\n",
        "            nn.Dropout(p=0.1),\n",
        "            nn.Linear(512, 10)\n",
        "        )\n",
        "\n",
        "    def forward(self, x):\n",
        "        \"\"\"Perform forward.\"\"\"\n",
        "\n",
        "        # conv layers\n",
        "        x = self.conv_layer(x)\n",
        "\n",
        "        # flatten\n",
        "        x = x.view(x.size(0), -1)\n",
        "\n",
        "        # fc layer\n",
        "        x = self.fc_layer(x)\n",
        "        return x"
      ],
      "metadata": {
        "id": "VTSI5U-Pnjnr"
      },
      "execution_count": 18,
      "outputs": []
    },
    {
      "cell_type": "code",
      "source": [
        "SVHN_model = SVHNCNN().to(device)\n",
        "print(\"Model Architecture:\")\n",
        "print(SVHN_model)"
      ],
      "metadata": {
        "colab": {
          "base_uri": "https://localhost:8080/"
        },
        "id": "XNoisSmaqdxF",
        "outputId": "e75847dd-7ccf-4fca-c077-88d4664a7374"
      },
      "execution_count": 19,
      "outputs": [
        {
          "output_type": "stream",
          "name": "stdout",
          "text": [
            "Model Architecture:\n",
            "SVHNCNN(\n",
            "  (conv_layer): Sequential(\n",
            "    (0): Conv2d(3, 32, kernel_size=(3, 3), stride=(1, 1), padding=(1, 1))\n",
            "    (1): BatchNorm2d(32, eps=1e-05, momentum=0.1, affine=True, track_running_stats=True)\n",
            "    (2): ReLU(inplace=True)\n",
            "    (3): Conv2d(32, 64, kernel_size=(3, 3), stride=(1, 1), padding=(1, 1))\n",
            "    (4): ReLU(inplace=True)\n",
            "    (5): MaxPool2d(kernel_size=2, stride=2, padding=0, dilation=1, ceil_mode=False)\n",
            "    (6): Conv2d(64, 128, kernel_size=(3, 3), stride=(1, 1), padding=(1, 1))\n",
            "    (7): BatchNorm2d(128, eps=1e-05, momentum=0.1, affine=True, track_running_stats=True)\n",
            "    (8): ReLU(inplace=True)\n",
            "    (9): Conv2d(128, 128, kernel_size=(3, 3), stride=(1, 1), padding=(1, 1))\n",
            "    (10): ReLU(inplace=True)\n",
            "    (11): MaxPool2d(kernel_size=2, stride=2, padding=0, dilation=1, ceil_mode=False)\n",
            "    (12): Dropout2d(p=0.05, inplace=False)\n",
            "    (13): Conv2d(128, 256, kernel_size=(3, 3), stride=(1, 1), padding=(1, 1))\n",
            "    (14): BatchNorm2d(256, eps=1e-05, momentum=0.1, affine=True, track_running_stats=True)\n",
            "    (15): ReLU(inplace=True)\n",
            "    (16): Conv2d(256, 256, kernel_size=(3, 3), stride=(1, 1), padding=(1, 1))\n",
            "    (17): ReLU(inplace=True)\n",
            "    (18): MaxPool2d(kernel_size=2, stride=2, padding=0, dilation=1, ceil_mode=False)\n",
            "  )\n",
            "  (fc_layer): Sequential(\n",
            "    (0): Dropout(p=0.1, inplace=False)\n",
            "    (1): Linear(in_features=4096, out_features=1024, bias=True)\n",
            "    (2): ReLU(inplace=True)\n",
            "    (3): Linear(in_features=1024, out_features=512, bias=True)\n",
            "    (4): ReLU(inplace=True)\n",
            "    (5): Dropout(p=0.1, inplace=False)\n",
            "    (6): Linear(in_features=512, out_features=10, bias=True)\n",
            "  )\n",
            ")\n"
          ]
        }
      ]
    },
    {
      "cell_type": "markdown",
      "source": [
        "we used:\n",
        "\n",
        "    - 6 convolutional layers along with ReLU activations, batch normalization layers and maxpool layers.\n",
        "    - 3 fully connected layers along with ReLU activations and dropout layers.\n",
        "    - Fully connected layers are used to flattened the convolutional layers output and than classify the images.\n",
        "      Therefore, the first FC layer is of size 4096, as the number of features resulted by convolutional layers.\n",
        "      And the final FC layer is of size 10, as the number of classes.\n",
        "\n",
        "\n",
        "\n",
        "\n"
      ],
      "metadata": {
        "id": "fLweV5nOsH6B"
      }
    },
    {
      "cell_type": "code",
      "source": [
        "# calcualte the output of the convolution automatically\n",
        "dummy_input = torch.zeros([1, 3, 32, 32]).to(device)\n",
        "print(\"input dimension: \", dummy_input.shape)\n",
        "dummy_output = SVHN_model.conv_layer(dummy_input)\n",
        "print(\"output dimension: \", dummy_output.shape)\n",
        "# how many weights (trainable parameters) we have in our model?\n",
        "num_trainable_params = sum([p.numel() for p in SVHN_model.parameters() if p.requires_grad])\n",
        "print(\"num trainable weights: \", num_trainable_params)"
      ],
      "metadata": {
        "colab": {
          "base_uri": "https://localhost:8080/"
        },
        "id": "LLoVmsThqU-t",
        "outputId": "180f7f39-596f-4ca4-d153-52d5c8b91961"
      },
      "execution_count": 20,
      "outputs": [
        {
          "output_type": "stream",
          "name": "stdout",
          "text": [
            "input dimension:  torch.Size([1, 3, 32, 32])\n",
            "output dimension:  torch.Size([1, 256, 4, 4])\n",
            "num trainable weights:  5852170\n"
          ]
        }
      ]
    },
    {
      "cell_type": "code",
      "source": [
        "def compile_model(model, init_weights=False, transform_train=transforms.ToTensor(), transform_test=transforms.ToTensor()):\n",
        "    # hyper-parameters\n",
        "    batch_size = 128\n",
        "    learning_rate = 1e-4\n",
        "    epochs = 5\n",
        "    val_loss_stop = 0.2\n",
        "    weight_decay = 1e-5\n",
        "\n",
        "    # Load SVHN dataset\n",
        "    train_loader, valid_loader, test_loader = get_SVHN_dataloaders(batch_size, \n",
        "                                                                   transform_train, \n",
        "                                                                   transform_test)\n",
        "\n",
        "    # device - cpu or gpu?\n",
        "    device = torch.device(\"cuda:0\" if torch.cuda.is_available() else \"cpu\")\n",
        "\n",
        "    # loss criterion\n",
        "    criterion = nn.CrossEntropyLoss()\n",
        "\n",
        "    # optimizer - SGD, Adam, RMSProp...\n",
        "    optimizer = torch.optim.Adam(model.parameters(), lr=learning_rate, \n",
        "                                 weight_decay=weight_decay)\n",
        "\n",
        "    # weights initialization\n",
        "    if (init_weights == True):\n",
        "        model.apply(weights_init)\n",
        "\n",
        "    # training loop\n",
        "    train_losses = []\n",
        "    valid_losses = []\n",
        "    #test_losses = []\n",
        "    for epoch in range(1, epochs + 1):\n",
        "        model.train() # put in training mode\n",
        "        running_loss = 0.0\n",
        "        total_correct = 0\n",
        "        total_images = 0\n",
        "        epoch_time = time.time()\n",
        "        for i, data in enumerate(train_loader, 0):\n",
        "            # get the inputs\n",
        "            inputs, labels = data\n",
        "            # send them to device\n",
        "            inputs = inputs.to(device)\n",
        "            labels = labels.to(device)\n",
        "\n",
        "            # forward + backward + optimize\n",
        "            outputs = model(inputs) # forward pass\n",
        "            loss = criterion(outputs, labels) # calculate the loss\n",
        "\n",
        "            # always the same 3 steps\n",
        "            loss.backward() # backpropagation\n",
        "            optimizer.step() # update parameters\n",
        "            optimizer.zero_grad() # zero the parameter gradients\n",
        "\n",
        "            # calc accuracy\n",
        "            _, predicted = torch.max(outputs.data, 1)\n",
        "            total_images += labels.size(0)\n",
        "            total_correct += (predicted == labels).sum().item()\n",
        "\n",
        "            # print statistics\n",
        "            running_loss += loss.data.item()\n",
        "\n",
        "        # Normalizing the loss by the total number of train batches\n",
        "        running_loss /= len(train_loader)\n",
        "        train_losses.append(running_loss)\n",
        "\n",
        "        # Calculate training/test set accuracy of the existing model\n",
        "        train_accuracy = total_correct / total_images * 100\n",
        "        #train_accuracy, _, _ = calculate_accuracy(model, train_loader, device, criterion)\n",
        "        valid_accuracy, _, valid_loss = calculate_accuracy(model, valid_loader, device, criterion)\n",
        "        valid_losses.append(valid_loss)\n",
        "        #test_accuracy, _, test_loss = calculate_accuracy(model, test_loader, device, criterion)\n",
        "        #test_losses.append(test_loss)\n",
        "\n",
        "        log = \"Epoch: {} | Train Loss: {:.4f} | Training accuracy: {:.3f}% | Validation Loss: {:.3f} | Validation accuracy: {:.3f}% | \".format(epoch\n",
        "        , running_loss, train_accuracy, valid_loss, valid_accuracy)\n",
        "        epoch_time = time.time() - epoch_time\n",
        "        log += \"Epoch Time: {:.2f} secs\".format(epoch_time)\n",
        "        print(log)\n",
        "\n",
        "        # early stopping\n",
        "        if(valid_loss < val_loss_stop):\n",
        "            print(\"early stopping\")\n",
        "            break\n",
        "\n",
        "    print('==> Finished Training ...')\n",
        "    \n",
        "    # calculate accuracy and confusion matrix\n",
        "    test_accuracy, confusion_matrix, _ = calculate_accuracy(model, test_loader, device, criterion)\n",
        "    print(\"test accuracy: {:.3f}%\".format(test_accuracy))\n",
        "\n",
        "    # plot confusion matrix\n",
        "    fig, ax = plt.subplots(1,1,figsize=(8,6))\n",
        "    ax.matshow(confusion_matrix, aspect='auto', vmin=0, vmax=1000, cmap=plt.get_cmap('Blues'))\n",
        "    plt.ylabel('Actual Category')\n",
        "    plt.yticks(range(10), range(10))\n",
        "    plt.xlabel('Predicted Category')\n",
        "    plt.xticks(range(10), range(10))\n",
        "    plt.show()\n",
        "\n",
        "    # print loss curves\n",
        "    plt.plot(train_losses, label='Train Loss')\n",
        "    plt.plot(valid_losses, label='Validation Loss')\n",
        "    plt.legend()\n",
        "    plt.xlabel('Epochs')\n",
        "    plt.ylabel('Loss')\n",
        "    plt.title('Loss')"
      ],
      "metadata": {
        "id": "4QXrXAXdEIM-"
      },
      "execution_count": 21,
      "outputs": []
    },
    {
      "cell_type": "code",
      "source": [
        "transform_train =  transforms.Compose([\n",
        "    transforms.ToTensor(),\n",
        "    ])\n",
        "\n",
        "transform_test =  transforms.Compose([\n",
        "    transforms.ToTensor(),\n",
        "    ])\n",
        "\n",
        "compile_model(model=SVHN_model, init_weights=False, \n",
        "              transform_train=transform_train,transform_test=transform_test)"
      ],
      "metadata": {
        "colab": {
          "base_uri": "https://localhost:8080/",
          "height": 830
        },
        "id": "Xvwn0DEcEOU5",
        "outputId": "aa5e77de-7977-4bb5-9b36-644e3126f59f"
      },
      "execution_count": 22,
      "outputs": [
        {
          "output_type": "stream",
          "name": "stdout",
          "text": [
            "Using downloaded and verified file: datasets/SVHN/train/train_32x32.mat\n",
            "Using downloaded and verified file: datasets/SVHN/test/test_32x32.mat\n",
            "Epoch: 1 | Train Loss: 0.8026 | Training accuracy: 73.395% | Validation Loss: 0.385 | Validation accuracy: 88.846% | Epoch Time: 70.90 secs\n",
            "Epoch: 2 | Train Loss: 0.3175 | Training accuracy: 90.466% | Validation Loss: 0.318 | Validation accuracy: 90.799% | Epoch Time: 70.84 secs\n",
            "Epoch: 3 | Train Loss: 0.2424 | Training accuracy: 92.824% | Validation Loss: 0.254 | Validation accuracy: 92.874% | Epoch Time: 70.70 secs\n",
            "Epoch: 4 | Train Loss: 0.1945 | Training accuracy: 94.305% | Validation Loss: 0.260 | Validation accuracy: 92.532% | Epoch Time: 70.71 secs\n",
            "Epoch: 5 | Train Loss: 0.1592 | Training accuracy: 95.479% | Validation Loss: 0.241 | Validation accuracy: 93.324% | Epoch Time: 70.61 secs\n",
            "==> Finished Training ...\n",
            "test accuracy: 93.139%\n"
          ]
        },
        {
          "output_type": "display_data",
          "data": {
            "image/png": "[encoded data removed]",
            "text/plain": [
              "<Figure size 576x432 with 1 Axes>"
            ]
          },
          "metadata": {
            "needs_background": "light"
          }
        },
        {
          "output_type": "display_data",
          "data": {
            "image/png": "[encoded data removed]",
            "text/plain": [
              "<Figure size 432x288 with 1 Axes>"
            ]
          },
          "metadata": {
            "needs_background": "light"
          }
        }
      ]
    },
    {
      "cell_type": "markdown",
      "source": [
        "**Section 3:**\n",
        "\n",
        "Model's hyper parameters: \n",
        "\n",
        "    - Batch size = 128\n",
        "    - Number of epochs = 5\n",
        "    - Learning rate = 1e-4\n",
        "    - Weight decay = 1e-5 (L2 regularization).\n",
        "\n",
        "We used validation phase with early stopping condition on validation loss.\n"
      ],
      "metadata": {
        "id": "48ajz297pPr6"
      }
    },
    {
      "cell_type": "markdown",
      "source": [
        "**Section 4:**"
      ],
      "metadata": {
        "id": "Uz3dtqfZtgPZ"
      }
    },
    {
      "cell_type": "code",
      "source": [
        "# 4. add a small noise to the test set images\n",
        "class AddGaussianNoise(object):\n",
        "    def __init__(self, mean=0., std=1., amp=1):\n",
        "        self.std = std\n",
        "        self.mean = mean\n",
        "        self.amp = amp\n",
        "        \n",
        "    def __call__(self, tensor):\n",
        "        return tensor + self.amp * torch.randn(tensor.size()) * self.std + self.mean\n",
        "    \n",
        "    def __repr__(self):\n",
        "        return self.__class__.__name__ + '(mean={0}, std={1})'.format(self.mean, self.std)\n",
        "\n",
        "def add_noise(a, test_loader):\n",
        "    transform=transforms.Compose([\n",
        "    transforms.ToTensor(),\n",
        "    AddGaussianNoise(0., 1., a)\n",
        "    ])\n",
        "    test_data = datasets.SVHN(root='datasets/SVHN/test/', split='test', transform=transform,\n",
        "                              target_transform=None, download=True)\n",
        "    test_loader_noised = DataLoader(test_data, batch_size=batch_size, shuffle=True)\n",
        "    return test_loader_noised\n",
        "\n",
        "batch_size = 128\n",
        "criterion = nn.CrossEntropyLoss()\n",
        "a_list = [0.05,0.01, 0.005]\n",
        "for a in a_list:\n",
        "    test_loader_noised = add_noise(a, test_loader)\n",
        "    test_accuracy, _, _ = calculate_accuracy(SVHN_model, test_loader_noised, device, criterion)\n",
        "    print(\"added noise amplitude: \", a)\n",
        "    print(\"test accuracy: {:.3f}%\".format(test_accuracy))"
      ],
      "metadata": {
        "colab": {
          "base_uri": "https://localhost:8080/"
        },
        "id": "mzP0nHKJrMGR",
        "outputId": "bf1e0ac4-90f2-4393-ad25-8b1b2d8ea190"
      },
      "execution_count": 23,
      "outputs": [
        {
          "output_type": "stream",
          "name": "stdout",
          "text": [
            "Using downloaded and verified file: datasets/SVHN/test/test_32x32.mat\n",
            "added noise amplitude:  0.05\n",
            "test accuracy: 90.024%\n",
            "Using downloaded and verified file: datasets/SVHN/test/test_32x32.mat\n",
            "added noise amplitude:  0.01\n",
            "test accuracy: 93.039%\n",
            "Using downloaded and verified file: datasets/SVHN/test/test_32x32.mat\n",
            "added noise amplitude:  0.005\n",
            "test accuracy: 93.139%\n"
          ]
        }
      ]
    },
    {
      "cell_type": "code",
      "source": [
        "# 5. Retrain the classifier with data augementation\n",
        "transform_train =  transforms.Compose([\n",
        "    transforms.RandomCrop(32, padding=4),\n",
        "    transforms.ToTensor(),\n",
        "    ])\n",
        "\n",
        "transform_test =  transforms.Compose([\n",
        "    transforms.ToTensor(),\n",
        "    ])\n",
        "\n",
        "compile_model(model=SVHN_model, init_weights=False, \n",
        "              transform_train=transform_train, transform_test=transform_test)\n"
      ],
      "metadata": {
        "colab": {
          "base_uri": "https://localhost:8080/",
          "height": 830
        },
        "id": "gFXKGDP8ApoQ",
        "outputId": "03f51d99-a13e-4275-ab5b-837915964f35"
      },
      "execution_count": 24,
      "outputs": [
        {
          "output_type": "stream",
          "name": "stdout",
          "text": [
            "Using downloaded and verified file: datasets/SVHN/train/train_32x32.mat\n",
            "Using downloaded and verified file: datasets/SVHN/test/test_32x32.mat\n",
            "Epoch: 1 | Train Loss: 0.3010 | Training accuracy: 90.866% | Validation Loss: 0.246 | Validation accuracy: 92.710% | Epoch Time: 76.53 secs\n",
            "Epoch: 2 | Train Loss: 0.2335 | Training accuracy: 93.147% | Validation Loss: 0.230 | Validation accuracy: 93.297% | Epoch Time: 76.22 secs\n",
            "Epoch: 3 | Train Loss: 0.2093 | Training accuracy: 93.901% | Validation Loss: 0.210 | Validation accuracy: 93.993% | Epoch Time: 76.19 secs\n",
            "Epoch: 4 | Train Loss: 0.1940 | Training accuracy: 94.367% | Validation Loss: 0.221 | Validation accuracy: 93.638% | Epoch Time: 76.19 secs\n",
            "Epoch: 5 | Train Loss: 0.1811 | Training accuracy: 94.764% | Validation Loss: 0.219 | Validation accuracy: 93.529% | Epoch Time: 76.24 secs\n",
            "==> Finished Training ...\n",
            "test accuracy: 94.426%\n"
          ]
        },
        {
          "output_type": "display_data",
          "data": {
            "image/png": "[encoded data removed]",
            "text/plain": [
              "<Figure size 576x432 with 1 Axes>"
            ]
          },
          "metadata": {
            "needs_background": "light"
          }
        },
        {
          "output_type": "display_data",
          "data": {
            "image/png": "[encoded data removed]",
            "text/plain": [
              "<Figure size 432x288 with 1 Axes>"
            ]
          },
          "metadata": {
            "needs_background": "light"
          }
        }
      ]
    },
    {
      "cell_type": "markdown",
      "source": [
        "The augmantation been used is:\n",
        "\n",
        "- **Random Crop** - Random crop is a data augmentation technique wherein we create a random subset of an original image. This helps our model generalize better because the object(s) of interest we want our models to learn are not always wholly visible in the image or the same scale in our training data.\n",
        "\n",
        "\n",
        "\n",
        "**As we can see above, the accuracy has improved after using data augmantation.**"
      ],
      "metadata": {
        "id": "YnBiv8i0KU2M"
      }
    },
    {
      "cell_type": "markdown",
      "metadata": {
        "id": "Y_w1jxadgjdS"
      },
      "source": [
        "## <img src=\"https://img.icons8.com/dusk/64/000000/prize.png\" style=\"height:50px;display:inline\"> Credits\n",
        "---\n",
        "* Icons made by <a href=\"https://www.flaticon.com/authors/becris\" title=\"Becris\">Becris</a> from <a href=\"https://www.flaticon.com/\" title=\"Flaticon\">www.flaticon.com</a>\n",
        "* Icons from <a href=\"https://icons8.com/\">Icons8.com</a> - https://icons8.com\n",
        "* Datasets from <a href=\"https://www.kaggle.com/\">Kaggle</a> - https://www.kaggle.com/"
      ]
    }
  ]
}